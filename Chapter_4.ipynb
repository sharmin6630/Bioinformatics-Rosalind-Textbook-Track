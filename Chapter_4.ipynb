{
  "cells": [
    {
      "cell_type": "markdown",
      "metadata": {
        "id": "wMHd5X7VFVpQ"
      },
      "source": [
        "# **Task 1**\n",
        "\n",
        "http://rosalind.info/problems/ba4a/\n",
        "\n",
        "Translate an RNA String into an Amino Acid String"
      ]
    },
    {
      "cell_type": "code",
      "execution_count": 1,
      "metadata": {
        "id": "L6BLTzXneANV",
        "outputId": "94621fa0-c914-40a7-d512-4109d21d411e"
      },
      "outputs": [
        {
          "name": "stdout",
          "output_type": "stream",
          "text": [
            "MAMAPRTEINSTRING\n"
          ]
        }
      ],
      "source": [
        "bases = \"UCAG\"\n",
        "rna_codons = [a + b + c for a in bases for b in bases for c in bases]\n",
        "amino_acids = \"FFLLSSSSYY..CC.WLLLLPPPPHHQQRRRRIIIMTTTTNNKKSSRRVVVVAAAADDEEGGGG\"\n",
        "codon_map = dict(zip(rna_codons, amino_acids))\n",
        "\n",
        "def rna_translation(rna):\n",
        "    i = 0\n",
        "    a_acid = \"\"\n",
        "    while i < len(rna):\n",
        "        temp = rna[i:i+3]\n",
        "        if codon_map[temp] != '.':\n",
        "            a_acid += codon_map[temp]\n",
        "        else:\n",
        "            break\n",
        "        i += 3\n",
        "    return a_acid\n",
        "\n",
        "if __name__ == \"__main__\":\n",
        "    rna = \"AUGGCCAUGGCGCCCAGAACUGAGAUCAAUAGUACCCGUAUUAACGGGUGA\"\n",
        "    # with open(\"rosalind_ba4a.txt\", \"r\") as f:\n",
        "    #     rna = f.readline()\n",
        "    print(rna_translation(rna))"
      ]
    },
    {
      "cell_type": "markdown",
      "metadata": {
        "id": "XS41xHbcFinD"
      },
      "source": [
        "# **Task 2**\n",
        "\n",
        "http://rosalind.info/problems/ba4b/\n",
        "\n",
        "Find Substrings of a Genome Encoding a Given Amino Acid String"
      ]
    },
    {
      "cell_type": "code",
      "execution_count": 3,
      "metadata": {
        "id": "sJ3ZGL6meANh",
        "outputId": "83cd36e6-0cc3-4113-80a5-611852d6fd45"
      },
      "outputs": [
        {
          "name": "stdout",
          "output_type": "stream",
          "text": [
            "ATGGCC\n",
            "GGCCAT\n",
            "ATGGCC\n"
          ]
        }
      ],
      "source": [
        "bases = \"UCAG\"\n",
        "rna_codons = [a + b + c for a in bases for b in bases for c in bases]\n",
        "amino_acids = \"FFLLSSSSYY..CC.WLLLLPPPPHHQQRRRRIIIMTTTTNNKKSSRRVVVVAAAADDEEGGGG\"\n",
        "codon_map = dict(zip(rna_codons, amino_acids))\n",
        "\n",
        "def reverse_rna(string):\n",
        "  complement = {'A':'U','G':'C','T':'A','C':'G'}\n",
        "  return ''.join([complement[x] for x in reversed(string)])\n",
        "\n",
        "def dna_to_rna(string):\n",
        "    return string.replace('T', 'U')\n",
        "\n",
        "def rna_translation(rna):\n",
        "    i = 0\n",
        "    a_acid = \"\"\n",
        "    while i < len(rna):\n",
        "        temp = rna[i:i+3]\n",
        "        if codon_map[temp] != '.':\n",
        "            a_acid += codon_map[temp]\n",
        "        else:\n",
        "            break\n",
        "        i += 3\n",
        "    return a_acid\n",
        "\n",
        "def find_gonome(dna, amino_acid):\n",
        "    k = len(amino_acid) * 3\n",
        "    result = []\n",
        "    for i in range(len(dna) - k + 1):\n",
        "        temp_dna = dna[i:i+k]\n",
        "        rna = dna_to_rna(temp_dna)\n",
        "        reverse = reverse_rna(temp_dna)\n",
        "        if rna_translation(rna) == amino_acid or rna_translation(reverse) == amino_acid:\n",
        "            print(temp_dna)\n",
        "\n",
        "if __name__ == \"__main__\":\n",
        "    dna = \"ATGGCCATGGCCCCCAGAACTGAGATCAATAGTACCCGTATTAACGGGTGA\"\n",
        "    amino_acid = 'MA'\n",
        "    # with open(\"rosalind_ba4b.txt\", \"r\") as f:\n",
        "    #     dna = f.readline().strip()\n",
        "    #     amino_acid = f.readline().strip()\n",
        "    find_gonome(dna, amino_acid)\n",
        "\n"
      ]
    },
    {
      "cell_type": "markdown",
      "metadata": {
        "id": "35DLZejUFqTB"
      },
      "source": [
        "# **Task 3**\n",
        "\n",
        "http://rosalind.info/problems/ba4c/\n",
        "\n",
        "Generate the Theoretical Spectrum of a Cyclic Peptide"
      ]
    },
    {
      "cell_type": "code",
      "execution_count": 4,
      "metadata": {
        "id": "2aCuV_vQeANj",
        "outputId": "20a962d4-4802-4c53-8a24-697cb7db0574"
      },
      "outputs": [
        {
          "name": "stdout",
          "output_type": "stream",
          "text": [
            "0 113 114 128 129 227 242 242 257 355 356 370 371 484\n"
          ]
        }
      ],
      "source": [
        "mass_table = {'A': 71, 'C': 103, 'E': 129, 'D': 115, 'G': 57, 'F': 147, 'I': 113, \n",
        "'H': 137, 'K': 128, 'M': 131,'L': 113, 'N': 114, 'Q': 128, 'P': 97, 'S': 87, \n",
        "'R': 156, 'T': 101, 'W': 186, 'V': 99, 'Y': 163, 'W': 186}\n",
        "\n",
        "def gen_spectrum(peptide):\n",
        "    full_mass = 0\n",
        "    result = []\n",
        "    result.append(0)\n",
        "    for x in peptide:\n",
        "        full_mass += mass_table[x]\n",
        "    result.append(full_mass)\n",
        "\n",
        "    k = 1\n",
        "    temp = peptide + peptide\n",
        "    while k < len(peptide):\n",
        "        for i in range(len(peptide)):\n",
        "            subpeptide = temp[i:i+k]\n",
        "            submass = 0\n",
        "            for x in subpeptide:\n",
        "                submass += mass_table[x]\n",
        "            result.append(submass)\n",
        "        k += 1\n",
        "    return sorted(result)\n",
        "\n",
        "if __name__ == \"__main__\":\n",
        "    peptide = \"LEQN\"\n",
        "    # with open(\"rosalind_ba4c.txt\", \"r\") as f:\n",
        "    #     peptide = f.readline().strip()\n",
        "    result = gen_spectrum(peptide)\n",
        "    print(\" \".join([str(x) for x in result]))"
      ]
    },
    {
      "cell_type": "markdown",
      "metadata": {
        "id": "Qpq-_RBRFwcg"
      },
      "source": [
        "# **Task 4**\n",
        "\n",
        "http://rosalind.info/problems/ba4d/\n",
        "\n",
        "Compute the Number of Peptides of Given Total Mass"
      ]
    },
    {
      "cell_type": "code",
      "execution_count": 5,
      "metadata": {
        "id": "htPCgiAreANk",
        "outputId": "fd13938e-e937-4ea4-c7fd-5e49fbff5e35"
      },
      "outputs": [
        {
          "name": "stdout",
          "output_type": "stream",
          "text": [
            "14712706211\n"
          ]
        }
      ],
      "source": [
        "mass_list = [57, 71, 87, 97, 99, 101, 103, 113, 114, 115, 128, 129, 131, 137, 147, 156, 163, 186]\n",
        "\n",
        "def count_peptides(mass):\n",
        "    counter = [0 for i in range(mass + 1)]\n",
        "    for x in mass_list:\n",
        "        counter[x] = 1\n",
        "\n",
        "    for i in range(mass+1):\n",
        "        temp = 0\n",
        "        for x in mass_list:\n",
        "            if i > x:\n",
        "                temp += counter[i-x]\n",
        "        counter[i] += temp    \n",
        "    return counter[mass]\n",
        "\n",
        "if __name__ == \"__main__\":\n",
        "    mass = 1024\n",
        "    # with open(\"rosalind_ba4d.txt\", \"r\") as f:\n",
        "    #     mass = int(f.readline().strip())\n",
        "    print(count_peptides(mass))"
      ]
    },
    {
      "cell_type": "markdown",
      "metadata": {
        "id": "v0IfQqz5GOyh"
      },
      "source": [
        "# **Task 5**\r\n",
        "\r\n",
        "http://rosalind.info/problems/ba4f/\r\n",
        "\r\n",
        "Compute the Score of a Cyclic Peptide Against a Spectrum"
      ]
    },
    {
      "cell_type": "code",
      "execution_count": 6,
      "metadata": {
        "id": "eDMC7oMVeANk"
      },
      "outputs": [
        {
          "name": "stdout",
          "output_type": "stream",
          "text": [
            "11\n"
          ]
        }
      ],
      "source": [
        "mass_table = {'A': 71, 'C': 103, 'E': 129, 'D': 115, 'G': 57, 'F': 147, 'I': 113, \r\n",
        "'H': 137, 'K': 128, 'M': 131,'L': 113, 'N': 114, 'Q': 128, 'P': 97, 'S': 87, \r\n",
        "'R': 156, 'T': 101, 'V': 99, 'Y': 163, 'W': 186}\r\n",
        "\r\n",
        "def cyclo_spectrum(peptide):\r\n",
        "    full_mass = 0\r\n",
        "    result = []\r\n",
        "    result.append(0)\r\n",
        "    for x in peptide:\r\n",
        "        full_mass += mass_table[x]\r\n",
        "    result.append(full_mass)\r\n",
        "\r\n",
        "    k = 1\r\n",
        "    temp = peptide + peptide\r\n",
        "    while k < len(peptide):\r\n",
        "        for i in range(len(peptide)):\r\n",
        "            subpeptide = temp[i:i+k]\r\n",
        "            submass = 0\r\n",
        "            for x in subpeptide:\r\n",
        "                submass += mass_table[x]\r\n",
        "            result.append(submass)\r\n",
        "        k += 1\r\n",
        "    return sorted(result)\r\n",
        "\r\n",
        "def score(peptide, spectrum):\r\n",
        "    theoretical_spectrum = cyclo_spectrum(peptide)\r\n",
        "    result = 0\r\n",
        "    all_mass = list(set(spectrum+theoretical_spectrum))\r\n",
        "    for mass in all_mass:\r\n",
        "        result += min(theoretical_spectrum.count(mass), spectrum.count(mass))\r\n",
        "    return result\r\n",
        "\r\n",
        "if __name__ == \"__main__\":\r\n",
        "    peptide = \"LEQN\"\r\n",
        "    spectrum = [0, 99, 113, 114, 128, 227, 257, 299, 355, 356, 370, 371, 484]\r\n",
        "    # with open(\"rosalind_ba4f.txt\", \"r\") as f:\r\n",
        "    #     peptide = f.readline().strip()\r\n",
        "    #     spectrum = [int(x) for x in f.readline().split()]\r\n",
        "    print(score(peptide,spectrum))"
      ]
    },
    {
      "cell_type": "markdown",
      "metadata": {
        "id": "WiUroO9QGkSu"
      },
      "source": [
        "# **Task 6**\r\n",
        "\r\n",
        "http://rosalind.info/problems/ba4h/\r\n",
        "\r\n",
        "Generate the Convolution of a Spectrum"
      ]
    },
    {
      "cell_type": "code",
      "execution_count": 8,
      "metadata": {},
      "outputs": [
        {
          "name": "stdout",
          "output_type": "stream",
          "text": [
            "137 137 186 186 323 49 "
          ]
        }
      ],
      "source": [
        "import operator\r\n",
        "\r\n",
        "def spectral_convolution(spectrum):\r\n",
        "    spectrum.sort()\r\n",
        "    result = dict()\r\n",
        "    for i in range(len(spectrum) - 1):\r\n",
        "        for j in range(i, len(spectrum)):\r\n",
        "            if spectrum[j] > spectrum[i]:\r\n",
        "                result[spectrum[j]-spectrum[i]] = result.get(spectrum[j] - spectrum[i], 0) + 1\r\n",
        "    result = dict(sorted(result.items(), key=operator.itemgetter(1), reverse=True))\r\n",
        "    #print(result)\r\n",
        "    return result\r\n",
        "\r\n",
        "\r\n",
        "if __name__ == \"__main__\":\r\n",
        "    spectrum = [0, 137, 186, 323]\r\n",
        "    # with open(\"rosalind_ba4h.txt\", \"r\") as f:\r\n",
        "    #     spectrum = [int(x) for x in f.readline().split()]\r\n",
        "    result = spectral_convolution(spectrum)\r\n",
        "    for key in result:\r\n",
        "        for j in range(result[key]):\r\n",
        "            print(key, end=\" \")"
      ]
    },
    {
      "cell_type": "markdown",
      "metadata": {},
      "source": [
        "# **Task 7**\r\n",
        "\r\n",
        "http://rosalind.info/problems/ba4g/\r\n",
        "\r\n",
        "Implement LeaderboardCyclopeptideSequencing"
      ]
    },
    {
      "cell_type": "code",
      "execution_count": 10,
      "metadata": {},
      "outputs": [
        {
          "name": "stdout",
          "output_type": "stream",
          "text": [
            "147-71-129-113\n"
          ]
        }
      ],
      "source": [
        "mass_table = {'A': 71, 'C': 103, 'E': 129, 'D': 115, 'G': 57, 'F': 147, 'I': 113, \r\n",
        "'H': 137, 'K': 128, 'M': 131,'L': 113, 'N': 114, 'Q': 128, 'P': 97, 'S': 87, \r\n",
        "'R': 156, 'T': 101, 'W': 186, 'V': 99, 'Y': 163, 'W': 186}\r\n",
        "\r\n",
        "def cyclo_spectrum(peptide):\r\n",
        "    full_mass = 0\r\n",
        "    result = []\r\n",
        "    result.append(0)\r\n",
        "    for x in peptide:\r\n",
        "        full_mass += mass_table[x]\r\n",
        "    result.append(full_mass)\r\n",
        "\r\n",
        "    k = 1\r\n",
        "    temp = peptide + peptide\r\n",
        "    while k < len(peptide):\r\n",
        "        for i in range(len(peptide)):\r\n",
        "            subpeptide = temp[i:i+k]\r\n",
        "            submass = 0\r\n",
        "            for x in subpeptide:\r\n",
        "                submass += mass_table[x]\r\n",
        "            result.append(submass)\r\n",
        "        k += 1\r\n",
        "    return sorted(result)\r\n",
        "\r\n",
        "def linear_spectrum(peptide):\r\n",
        "    full_mass = 0\r\n",
        "    result = []\r\n",
        "    result.append(0)\r\n",
        "    for x in peptide:\r\n",
        "        full_mass += mass_table[x]\r\n",
        "    result.append(full_mass)\r\n",
        "\r\n",
        "    k = 1\r\n",
        "    while k < len(peptide):\r\n",
        "        for i in range(len(peptide) - k + 1):\r\n",
        "            subpeptide = peptide[i:i+k]\r\n",
        "            submass = 0\r\n",
        "            for x in subpeptide:\r\n",
        "                submass += mass_table[x]\r\n",
        "            result.append(submass)\r\n",
        "        k += 1\r\n",
        "    return sorted(result)\r\n",
        "\r\n",
        "def pep_score_circular(peptide, spectrum):\r\n",
        "    theoretical_spectrum = cyclo_spectrum(peptide)\r\n",
        "    result = 0\r\n",
        "    all_mass = list(set(spectrum+theoretical_spectrum))\r\n",
        "    for mass in all_mass:\r\n",
        "        result += min(theoretical_spectrum.count(mass), spectrum.count(mass))\r\n",
        "    return result\r\n",
        "\r\n",
        "def pep_score_linear(peptide, spectrum):\r\n",
        "    theoretical_spectrum = linear_spectrum(peptide)\r\n",
        "    result = 0\r\n",
        "    all_mass = list(set(theoretical_spectrum + spectrum))\r\n",
        "    for mass in all_mass:\r\n",
        "        result += min(theoretical_spectrum.count(mass), spectrum.count(mass))\r\n",
        "    return result\r\n",
        "\r\n",
        "def trim(N, peptides, spectrum):\r\n",
        "    leaderboard = {}\r\n",
        "    for peptide in peptides:\r\n",
        "        score_linear = pep_score_linear(peptide, spectrum)\r\n",
        "        leaderboard[peptide] = score_linear\r\n",
        "    if len(leaderboard.keys()) <= N:\r\n",
        "        return peptides\r\n",
        "    threshold = sorted(list(leaderboard.values()), reverse=True)[N - 1]\r\n",
        "    output = [k for k in leaderboard.keys() if leaderboard[k] >= threshold]\r\n",
        "    return output\r\n",
        "\r\n",
        "def leaderboard_cyclopeptide_sequencing(N, spectrum):\r\n",
        "    all = mass_table.keys()\r\n",
        "    candidates = set(all)\r\n",
        "    final_pep = ''\r\n",
        "    max_score = 0\r\n",
        "    while len(candidates):\r\n",
        "        new_candidate = set()\r\n",
        "        for pep in candidates:\r\n",
        "            for x_pep in all:\r\n",
        "                new_candidate.add(pep + x_pep)\r\n",
        "        candidates = new_candidate\r\n",
        "        temp_candidate = list(candidates)\r\n",
        "        for pep in temp_candidate:\r\n",
        "            pep_mass = sum([mass_table[x] for x in pep])\r\n",
        "            if pep_mass == spectrum[-1]:\r\n",
        "                score_circular = pep_score_circular(pep, spectrum)\r\n",
        "                if score_circular > max_score:\r\n",
        "                    final_pep = pep\r\n",
        "                    max_score = score_circular\r\n",
        "            elif pep_mass > spectrum[-1]:\r\n",
        "                candidates.remove(pep)\r\n",
        "        candidates = trim(N, candidates, spectrum)\r\n",
        "    return final_pep\r\n",
        "\r\n",
        "if __name__ == \"__main__\":\r\n",
        "    N = 10\r\n",
        "    spectrum = [0, 71, 113, 129, 147, 200, 218, 260, 313, 331, 347, 389, 460]\r\n",
        "    # with open(\"rosalind_ba4g.txt\", \"r\") as f:\r\n",
        "    #     N = int(f.readline().strip())\r\n",
        "    #     spectrum = [int(x) for x in f.readline().split()]\r\n",
        "    result = leaderboard_cyclopeptide_sequencing(N, spectrum)\r\n",
        "    print('-'.join([str(mass_table[x]) for x in result]))"
      ]
    },
    {
      "cell_type": "markdown",
      "metadata": {},
      "source": [
        "# **Task 8**\r\n",
        "\r\n",
        "http://rosalind.info/problems/ba4i/\r\n",
        "\r\n",
        "Implement ConvolutionCyclopeptideSequencing"
      ]
    },
    {
      "cell_type": "code",
      "execution_count": 11,
      "metadata": {},
      "outputs": [
        {
          "name": "stdout",
          "output_type": "stream",
          "text": [
            "57-129-99-71-57-80\n"
          ]
        }
      ],
      "source": [
        "import operator\r\n",
        "\r\n",
        "\r\n",
        "def score(peptide, spectrum):\r\n",
        "    theoretical_spectrum = cyclo_spectrum_mass(peptide)\r\n",
        "    result = 0\r\n",
        "    all_mass = list(set(spectrum+theoretical_spectrum))\r\n",
        "    for mass in all_mass:\r\n",
        "        result += min(theoretical_spectrum.count(mass), spectrum.count(mass))\r\n",
        "    return result\r\n",
        "\r\n",
        "def cyclo_spectrum_mass(peptide):\r\n",
        "    result = []\r\n",
        "    result = [0, sum(peptide)]\r\n",
        "    temp = peptide + peptide\r\n",
        "    for k in range(1, len(peptide)):\r\n",
        "        for i in range(len(peptide)):\r\n",
        "            subpeptide = temp[i:i+k]\r\n",
        "            result.append(sum(subpeptide))\r\n",
        "    return sorted(result)\r\n",
        "\r\n",
        "def spectral_convolution(spectrum):\r\n",
        "    spectrum.sort()\r\n",
        "    result = dict()\r\n",
        "    for i in range(len(spectrum) - 1):\r\n",
        "        for j in range(i, len(spectrum)):\r\n",
        "            if spectrum[j] > spectrum[i]:\r\n",
        "                result[spectrum[j]-spectrum[i]] = result.get(spectrum[j] - spectrum[i], 0) + 1\r\n",
        "    result = dict(sorted(result.items(), key=operator.itemgetter(1), reverse=True))\r\n",
        "    #print(result)\r\n",
        "    convolution = []\r\n",
        "    for key in result:\r\n",
        "        convolution += [key] * result[key]\r\n",
        "    return convolution\r\n",
        "\r\n",
        "def find_masses(M, spectrum):\r\n",
        "    convolution = spectral_convolution(spectrum)\r\n",
        "    convolution = [x for x in convolution if 57 <= x <= 200]\r\n",
        "    freq_dict = {}\r\n",
        "    for mass in set(convolution):\r\n",
        "        freq_dict[mass] = convolution.count(mass)\r\n",
        "\r\n",
        "    sorted_masses = dict(sorted(freq_dict.items(), key=operator.itemgetter(1), reverse=True))\r\n",
        "    masses = []\r\n",
        "    values = sorted_masses.values()\r\n",
        "    values_list = list(values)\r\n",
        "    for key in sorted_masses:\r\n",
        "        if sorted_masses[key] >= values_list[M]:\r\n",
        "            masses.append(key)\r\n",
        "    masses.sort()\r\n",
        "    return masses\r\n",
        "\r\n",
        "def trim(N, leaderboard, spectrum):\r\n",
        "    if len(leaderboard) <= N:\r\n",
        "        return leaderboard\r\n",
        "    scores = {}\r\n",
        "    for i, peptide in enumerate(leaderboard):\r\n",
        "        scores[i] = score(peptide, spectrum)\r\n",
        "\r\n",
        "    sorted_scores = sorted(scores.values(), reverse=True)\r\n",
        "    threshold = sorted_scores[N - 1]\r\n",
        "    return [leaderboard[idx] for idx, score in scores.items() if score >= threshold]\r\n",
        "\r\n",
        "def expand(peptides, masses):\r\n",
        "    new_peptides = []\r\n",
        "    for pep in peptides:\r\n",
        "        for mass in masses:\r\n",
        "            new_peptides.append(pep + [mass])\r\n",
        "    return new_peptides\r\n",
        "\r\n",
        "\r\n",
        "def convolution_cyclopeptide_sequencing(M, N, spectrum):\r\n",
        "    masses = find_masses(M, spectrum)\r\n",
        "    #print(masses)\r\n",
        "    leaderboard = [[]]\r\n",
        "    leader_peptide = []\r\n",
        "\r\n",
        "    while leaderboard:\r\n",
        "        leaderboard = expand(leaderboard, masses)\r\n",
        "        for peptide in leaderboard:\r\n",
        "            if sum(peptide) == spectrum[-1]:\r\n",
        "                #print(peptide)\r\n",
        "                if score(peptide, spectrum) > score(leader_peptide, spectrum):\r\n",
        "                    leader_peptide = peptide\r\n",
        "            elif sum(peptide) > spectrum[-1]:\r\n",
        "                leaderboard = [pep for pep in leaderboard if pep != peptide]\r\n",
        "        leaderboard = trim(N, leaderboard, spectrum)\r\n",
        "        #print(\"ok\")\r\n",
        "    return leader_peptide\r\n",
        "\r\n",
        "if __name__ == \"__main__\":\r\n",
        "    M = 20\r\n",
        "    N = 60\r\n",
        "    spectrum = [57, 57, 71, 99, 129, 137, 170, 186, 194, 208, 228, 265, 285, 299, 307, 323, 356, 364, 394, 422, 493]\r\n",
        "    # with open(\"rosalind_ba4i.txt\", \"r\") as f:\r\n",
        "    #     M = int(f.readline().strip())\r\n",
        "    #     N = int(f.readline().strip())\r\n",
        "    #     spectrum = [int(x) for x in f.readline().split()]\r\n",
        "    result = convolution_cyclopeptide_sequencing(M, N, spectrum)\r\n",
        "    print('-'.join([str(x) for x in result]))"
      ]
    },
    {
      "cell_type": "code",
      "execution_count": null,
      "metadata": {},
      "outputs": [],
      "source": []
    }
  ],
  "metadata": {
    "colab": {
      "collapsed_sections": [],
      "name": "labtask5.ipynb",
      "provenance": []
    },
    "interpreter": {
      "hash": "6cfb4932265d43b27c5a78170677dd7e3b600af38b654235a505386ffcc5e43d"
    },
    "kernelspec": {
      "display_name": "Python 3.7.7 64-bit ('codes': conda)",
      "name": "python3"
    },
    "language_info": {
      "codemirror_mode": {
        "name": "ipython",
        "version": 3
      },
      "file_extension": ".py",
      "mimetype": "text/x-python",
      "name": "python",
      "nbconvert_exporter": "python",
      "pygments_lexer": "ipython3",
      "version": "3.7.7"
    },
    "orig_nbformat": 2
  },
  "nbformat": 4,
  "nbformat_minor": 0
}