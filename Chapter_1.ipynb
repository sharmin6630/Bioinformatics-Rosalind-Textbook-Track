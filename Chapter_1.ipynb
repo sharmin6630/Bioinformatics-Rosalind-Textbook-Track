{
  "nbformat": 4,
  "nbformat_minor": 0,
  "metadata": {
    "colab": {
      "name": "Chapter_1.ipynb",
      "provenance": [],
      "collapsed_sections": []
    },
    "kernelspec": {
      "name": "python37764bitcodesconda65f9a13fd3f3408ea5234ca36b878887",
      "display_name": "Python 3.7.7 64-bit ('codes': conda)"
    },
    "metadata": {
      "interpreter": {
        "hash": "6cfb4932265d43b27c5a78170677dd7e3b600af38b654235a505386ffcc5e43d"
      }
    }
  },
  "cells": [
    {
      "cell_type": "markdown",
      "metadata": {
        "id": "vjUDH_q9piRv"
      },
      "source": [
        "# **Chapter 1**"
      ]
    },
    {
      "cell_type": "markdown",
      "metadata": {
        "id": "R65DgLVlp2Rz"
      },
      "source": [
        "#**Task1:**\n",
        "\n",
        "http://rosalind.info/problems/ba1a/\n",
        "\n",
        "Compute the Number of Times a Pattern Appears in a Text\n",
        "\n"
      ]
    },
    {
      "cell_type": "code",
      "metadata": {
        "colab": {
          "base_uri": "https://localhost:8080/"
        },
        "id": "8T3wep0YqoU6",
        "outputId": "3c5b5831-4591-4893-f846-7a3eb8224b92"
      },
      "source": [
        "def PatternCount(text, pattern):\n",
        "    count = 0\n",
        "    for i in range(len(text) - len(pattern) + 1):\n",
        "        if text[i:i+len(pattern)] == pattern:\n",
        "            count +=  1\n",
        "    return count\n",
        "if __name__ == \"__main__\":\n",
        "    text = 'GCGCG'\n",
        "    pattern = 'GCG'\n",
        "    # with open(\"rosalind_ba1a.txt\", \"r\") as f:\n",
        "    #     text = f.readline().strip()\n",
        "    #     pattern = f.readline().strip()\n",
        "    print(PatternCount(text, pattern))"
      ],
      "execution_count": 1,
      "outputs": [
        {
          "output_type": "stream",
          "name": "stdout",
          "text": [
            "2\n"
          ]
        }
      ]
    },
    {
      "cell_type": "markdown",
      "metadata": {
        "id": "DtXMt8y7p2nF"
      },
      "source": [
        "#**Task2:**\n",
        "\n",
        "http://rosalind.info/problems/ba1b/\n",
        "\n",
        "Find the Most Frequent Words in a String\n",
        "\n"
      ]
    },
    {
      "cell_type": "code",
      "metadata": {
        "colab": {
          "base_uri": "https://localhost:8080/"
        },
        "id": "5ZZZ_pEiqo2M",
        "outputId": "8cbde49c-8507-4cc5-9879-17e8bbe0f332"
      },
      "source": [
        "def most_frequent(string, k):\n",
        "    patterns = dict()\n",
        "    for i in range(len(string) - k + 1):\n",
        "        word = string[i:i+k]\n",
        "        patterns[word] = patterns.get(word, 0) + 1\n",
        "    return patterns\n",
        "\n",
        "if __name__ == \"__main__\":\n",
        "    string = 'ACGTTGCATGTCGCATGATGCATGAGAGCT'\n",
        "    k = 4\n",
        "    # with open(\"rosalind_ba1a.txt\", \"r\") as f:\n",
        "    #     string = f.readline().strip()\n",
        "    #     k = int(f.readline().strip())\n",
        "    result = most_frequent(string, k)\n",
        "    max_val = max(result.values())\n",
        "    for key in result.keys():\n",
        "        if result[key] == max_val:\n",
        "            print(key, end=\" \")"
      ],
      "execution_count": 2,
      "outputs": [
        {
          "output_type": "stream",
          "name": "stdout",
          "text": [
            "GCAT CATG "
          ]
        }
      ]
    },
    {
      "cell_type": "markdown",
      "metadata": {
        "id": "Ey16rphrp2wW"
      },
      "source": [
        "#**Task3:**\n",
        "\n",
        "http://rosalind.info/problems/ba1c/\n",
        "\n",
        "Find the Reverse Complement of a String"
      ]
    },
    {
      "cell_type": "code",
      "metadata": {
        "colab": {
          "base_uri": "https://localhost:8080/"
        },
        "id": "whNGNGCiqpTB",
        "outputId": "429b47e1-d41e-4a9e-d540-920a7c5c3ce4"
      },
      "source": [
        "def reverse_pattern(string):\n",
        "  complement = {'A':'T','G':'C','T':'A','C':'G'}\n",
        "  return ''.join([complement[x] for x in reversed(string)])\n",
        "      \n",
        "if __name__ == \"__main__\":\n",
        "    dna = 'AAAACCCGGT'\n",
        "    # with open(\"rosalind_ba1c.txt\", \"r\") as f:\n",
        "    #     dna = f.readline().strip()\n",
        "    print(reverse_pattern(dna))\n"
      ],
      "execution_count": 3,
      "outputs": [
        {
          "output_type": "stream",
          "name": "stdout",
          "text": [
            "ACCGGGTTTT\n"
          ]
        }
      ]
    },
    {
      "cell_type": "markdown",
      "metadata": {
        "id": "5299Fp-8p25H"
      },
      "source": [
        "#**Task4:**\n",
        "\n",
        "http://rosalind.info/problems/ba1d/\n",
        "\n",
        "Find All Occurrences of a Pattern in a String\n",
        "\n"
      ]
    },
    {
      "cell_type": "code",
      "metadata": {
        "colab": {
          "base_uri": "https://localhost:8080/"
        },
        "id": "Wlw8JIH9qp8N",
        "outputId": "e7b342cd-677f-4f89-9b1a-85c728501403"
      },
      "source": [
        "def Occurrences(pattern, string):\n",
        "    for i in range(len(string) - len(pattern)):\n",
        "        if string[i:i+len(pattern)] == pattern:\n",
        "            print(i, end=\" \")\n",
        "\n",
        "if __name__ == '__main__':\n",
        "    pattern = 'ATAT'\n",
        "    string = 'GATATATGCATATACTT'\n",
        "    # with open('rosalind_ba3b.txt', 'r') as f:\n",
        "    #     pattern = f.readline().strip()\n",
        "    #     string = f.readline().strip()\n",
        "    Occurrences(pattern, string)"
      ],
      "execution_count": 4,
      "outputs": [
        {
          "output_type": "stream",
          "name": "stdout",
          "text": [
            "1 3 9 "
          ]
        }
      ]
    },
    {
      "cell_type": "markdown",
      "metadata": {
        "id": "S4JUedttp3BB"
      },
      "source": [
        "#**Task5:**\n",
        "\n",
        "http://rosalind.info/problems/ba1e/\n",
        "\n",
        "Find Patterns Forming Clumps in a String"
      ]
    },
    {
      "cell_type": "code",
      "metadata": {
        "colab": {
          "base_uri": "https://localhost:8080/"
        },
        "id": "E5G0RzIjqqeW",
        "outputId": "98c09c6a-c859-486b-f646-8f24e4e344cb"
      },
      "source": [
        "def clump_finding(str1, k, L, t):\n",
        "    result = []\n",
        "    for i in range(len(str1)-L+1):\n",
        "        for j in range(i, i+L-k):\n",
        "            if str1[i:i+L].count(str1[j:j+k]) >= t:\n",
        "                result.append(str1[j:j+k])\n",
        "    result = list(set(result))\n",
        "    return result\n",
        "\n",
        "if __name__ == \"__main__\":\n",
        "    genome = 'CGGACTCGACAGATGTGAAGAAATGTGAAGACTGAGTGAAGAGAAGAGGAAACACGACACGACATTGCGACATAATGTACGAATGTAATGTGCCTATGGC'\n",
        "    k, L, t = 5, 75, 4\n",
        "    # with open(\"rosalind_ba1e.txt\", \"r\") as f:\n",
        "    #     genome = f.readline().strip()\n",
        "    #     k, L, t = map(int, f.readline().strip().split())\n",
        "        \n",
        "    result = clump_finding(genome, k, L, t)\n",
        "    print(\" \".join(result))"
      ],
      "execution_count": 5,
      "outputs": [
        {
          "output_type": "stream",
          "name": "stdout",
          "text": [
            "GAAGA CGACA AATGT\n"
          ]
        }
      ]
    },
    {
      "cell_type": "markdown",
      "metadata": {
        "id": "bn85caP6qS0J"
      },
      "source": [
        "# **Task 6**\n",
        "\n",
        "http://rosalind.info/problems/ba1f/\n",
        "\n",
        "Find a Position in a Genome Minimizing the Skew"
      ]
    },
    {
      "cell_type": "code",
      "metadata": {
        "colab": {
          "base_uri": "https://localhost:8080/"
        },
        "id": "L1ojRDL9qcQo",
        "outputId": "61970b2c-5fb7-4025-d602-c235cfdb2400"
      },
      "source": [
        "def min_skew(str1):\n",
        "    skew = []\n",
        "    skew.append(0)\n",
        "    count = 0\n",
        "    for i in range(len(str1)):\n",
        "        if str1[i] == \"G\":\n",
        "            count += 1\n",
        "        elif str1[i] == \"C\":\n",
        "            count -= 1\n",
        "        skew.append(count)\n",
        "    minimum_skew = min(skew)\n",
        "  \n",
        "    for i in range(len(skew)):\n",
        "        if skew[i] == minimum_skew:\n",
        "            print(i, end=\" \")\n",
        "    return\n",
        "\n",
        "if __name__ == \"__main__\":\n",
        "    genome = \"CCTATCGGTGGATTAGCATGTCCCTGTACGTTTCGCCGCGAACTAGTTCACACGGCTTGATGGCAAATGGTTTTTCCGGCGACCGTAATCGTCCACCGAG\"\n",
        "    # with open(\"rosalind_ba1f.txt\", \"r\") as f:\n",
        "    #     genome = f.readline().strip()\n",
        "    min_skew(genome)"
      ],
      "execution_count": 6,
      "outputs": [
        {
          "output_type": "stream",
          "name": "stdout",
          "text": [
            "53 97 "
          ]
        }
      ]
    },
    {
      "cell_type": "markdown",
      "metadata": {
        "id": "x_GBeFUcqqtv"
      },
      "source": [
        "# **Task 7**\n",
        "\n",
        "http://rosalind.info/problems/ba1g/\n",
        "\n",
        "Compute the Hamming Distance Between Two Strings"
      ]
    },
    {
      "cell_type": "code",
      "metadata": {
        "colab": {
          "base_uri": "https://localhost:8080/"
        },
        "id": "c_Xj6qmBqrA_",
        "outputId": "e3cb6b9e-2950-4e43-e164-953872d13b88"
      },
      "source": [
        "def Hamming_distance(str1, str2):\n",
        "    result = 0\n",
        "    for i in range(len(str1)):\n",
        "        if str1[i] != str2[i]:\n",
        "            result += 1\n",
        "    return result\n",
        "\n",
        "if __name__ == \"__main__\":\n",
        "    str1 = \"GGGCCGTTGGT\"\n",
        "    str2 = \"GGACCGTTGAC\"\n",
        "    # with open(\"rosalind_ba1g.txt\", \"r\") as f:\n",
        "    #     str1 = f.readline().strip()\n",
        "    #     str2 = f.readline().strip()\n",
        "    print(Hamming_distance(str1, str2))"
      ],
      "execution_count": 7,
      "outputs": [
        {
          "output_type": "stream",
          "name": "stdout",
          "text": [
            "3\n"
          ]
        }
      ]
    },
    {
      "cell_type": "markdown",
      "metadata": {
        "id": "RYBtPwFqK0t3"
      },
      "source": [
        "# **Task 8**\n",
        "\n",
        "http://rosalind.info/problems/ba1h/\n",
        "\n",
        "Find All Approximate Occurrences of a Pattern in a String"
      ]
    },
    {
      "cell_type": "code",
      "metadata": {
        "colab": {
          "base_uri": "https://localhost:8080/"
        },
        "id": "z5cPD6ZmK06I",
        "outputId": "54137cc7-6c91-46cf-ce6d-a871641cd5fb"
      },
      "source": [
        "def Hamming_distance(str1, str2):\n",
        "    result = 0\n",
        "    for i in range(len(str1)):\n",
        "        if str1[i] != str2[i]:\n",
        "            result += 1\n",
        "    return result\n",
        "\n",
        "def approximate_occurance(pattern, text, d):\n",
        "    for i in range(len(text) - len(pattern) + 1):\n",
        "        word = text[i:i+len(pattern)]\n",
        "        distance = Hamming_distance(word, pattern)\n",
        "        if distance <= d:\n",
        "            print(i, end=\" \")\n",
        "\n",
        "if __name__ == \"__main__\":\n",
        "    pattern = \"ATTCTGGA\"\n",
        "    text = \"CGCCCGAATCCAGAACGCATTCCCATATTTCGGGACCACTGGCCTCCACGGTACGGACGTCAATCAAATGCCTAGCGGCTTGTGGTTTCTCCTACGCTCC\"\n",
        "    d = 3\n",
        "    # with open(\"rosalind_ba1h.txt\", \"r\") as f:\n",
        "    #     pattern = f.readline().strip()\n",
        "    #     text = f.readline().strip()\n",
        "    #     d = int(f.readline().strip())\n",
        "    approximate_occurance(pattern, text, d)"
      ],
      "execution_count": 8,
      "outputs": [
        {
          "output_type": "stream",
          "name": "stdout",
          "text": [
            "6 7 26 27 78 "
          ]
        }
      ]
    },
    {
      "cell_type": "markdown",
      "metadata": {
        "id": "NHz7B53BMUfo"
      },
      "source": [
        "# **Task 9**\n",
        "\n",
        "http://rosalind.info/problems/ba1i/\n",
        "\n",
        "Find the Most Frequent Words with Mismatches in a String"
      ]
    },
    {
      "cell_type": "code",
      "metadata": {
        "colab": {
          "base_uri": "https://localhost:8080/"
        },
        "id": "lcEo_lRAMUwv",
        "outputId": "50b031a1-0dcd-4edc-9708-639262a613e0"
      },
      "source": [
        "from collections import defaultdict\n",
        "\n",
        "def neighbour(pattern, mismatch, words):\n",
        "    bases = ['A', 'T', 'G', 'C']\n",
        "    for i in range(len(pattern)):\n",
        "        for j in range(len(bases)):\n",
        "            new_pattern = pattern[:i] + bases[j] + pattern[i+1:]\n",
        "            if mismatch <= 1:\n",
        "                words.add(new_pattern)\n",
        "            else:\n",
        "                neighbour(new_pattern, mismatch - 1, words)\n",
        "\n",
        "def find_most_frequent_words(text, k, d):\n",
        "    all_frequent_words = defaultdict(int)\n",
        "    for i in range(len(text) - k + 1):\n",
        "        frequent_words = set()\n",
        "        neighbour(text[i:i+k], d, frequent_words)\n",
        "        for words in frequent_words:\n",
        "            all_frequent_words[words] += 1\n",
        "    # print all_frequent_words\n",
        "    for key in all_frequent_words.keys():\n",
        "        if all_frequent_words[key] == max(all_frequent_words.values()):\n",
        "            print(key, end=\" \")\n",
        "\n",
        "if __name__ == \"__main__\":\n",
        "    text = 'ACGTTGCATGTCGCATGATGCATGAGAGCT'\n",
        "    k, d = 4, 1\n",
        "    # with open(\"rosalind_ba1i.txt\", \"r\") as f:\n",
        "    #     text = f.readline().strip()\n",
        "    #     k, d = map(int, f.readline().strip().split())\n",
        "    find_most_frequent_words(text, k, d)"
      ],
      "execution_count": 9,
      "outputs": [
        {
          "output_type": "stream",
          "name": "stdout",
          "text": [
            "ATGT GATG ATGC "
          ]
        }
      ]
    },
    {
      "cell_type": "markdown",
      "metadata": {
        "id": "5FDxOuenSqxn"
      },
      "source": [
        "# **Task 10**\n",
        "\n",
        "http://rosalind.info/problems/ba1j/\n",
        "\n",
        "Find Frequent Words with Mismatches and Reverse Complements"
      ]
    },
    {
      "cell_type": "code",
      "metadata": {
        "colab": {
          "base_uri": "https://localhost:8080/"
        },
        "id": "YGdxFPoPSq8J",
        "outputId": "84bfeef2-bcf9-4c9b-ca6c-50631638c105"
      },
      "source": [
        "import numpy as np\n",
        "from itertools import product\n",
        "\n",
        "def pattern_gen(str, length):\n",
        "  chars = list(str)\n",
        "  results = []\n",
        "  for c in product(chars, repeat = length):\n",
        "    word = ''.join(c)\n",
        "    results.append(word)\n",
        "  return results\n",
        "\n",
        "def reverse_pattern(string):\n",
        "  complement = {'A':'T','G':'C','T':'A','C':'G'}\n",
        "  return ''.join([complement[x] for x in reversed(string)])\n",
        "\n",
        "\n",
        "def ham_dist(str1, str2):\n",
        "  count = 0\n",
        "  for i in range(len(str1)):\n",
        "    if str1[i] != str2[i]:\n",
        "      count += 1\n",
        "  return count\n",
        "\n",
        "if __name__ == \"__main__\":\n",
        "    text = 'ACGTTGCATGTCGCATGATGCATGAGAGCT'\n",
        "    k, d = 4, 1\n",
        "    # with open(\"rosalind_ba1i.txt\", \"r\") as f:\n",
        "    #     text = f.readline().strip()\n",
        "    #     k, d = map(int, f.readline().strip().split())\n",
        "\n",
        "    word = pattern_gen(\"ATGC\", k)\n",
        "    result = dict()\n",
        "\n",
        "    for i in range(len(word)):\n",
        "        for j in range(len(text) - k + 1):\n",
        "            str1 = text[j:j+k]\n",
        "            distance = ham_dist(word[i], str1)\n",
        "            if distance <= d:\n",
        "                result[word[i]] = result.get(word[i], 0) + 1\n",
        "        for j in range(len(text) - k + 1):\n",
        "            str1 = text[j:j+k]\n",
        "            distance = ham_dist(reverse_pattern(word[i]), str1)\n",
        "            if distance <= d:\n",
        "                result[word[i]] = result.get(word[i], 0) + 1\n",
        "\n",
        "    #print(result)\n",
        "    max_value = max(result.values())\n",
        "    #print(result)\n",
        "    for key, val in result.items():\n",
        "        if val == max_value:\n",
        "            print(key, end=\" \")"
      ],
      "execution_count": 10,
      "outputs": [
        {
          "output_type": "stream",
          "name": "stdout",
          "text": [
            "ATGT ACAT "
          ]
        }
      ]
    },
    {
      "cell_type": "markdown",
      "metadata": {
        "id": "OdXjwE7kXIiY"
      },
      "source": [
        "# **Task 11**\n",
        "\n",
        "http://rosalind.info/problems/ba1k/\n",
        "\n",
        "Generate the Frequency Array of a String"
      ]
    },
    {
      "cell_type": "code",
      "metadata": {
        "colab": {
          "base_uri": "https://localhost:8080/"
        },
        "id": "djxAcz0oXH6z",
        "outputId": "0f10024a-27fa-4a3d-9fec-c995779f9fd1"
      },
      "source": [
        "def count_pattern(text, pattern):\n",
        "    count = 0\n",
        "    for i in range(len(text)-len(pattern)+1):\n",
        "        if text[i:i+len(pattern)] == pattern:\n",
        "            count += 1\n",
        "    return count\n",
        "\n",
        "def get_array(k):\n",
        "    bases = ['A', 'C', 'G', 'T']\n",
        "    array = bases\n",
        "    for n in range(k-1):\n",
        "        array = [i+j for i in array for j in bases]\n",
        "        #print(array)\n",
        "    return array\n",
        "\n",
        "def compute_frequency_array(text, k):\n",
        "    k_mers = get_array(k)\n",
        "    for pattern in k_mers:\n",
        "        print(count_pattern(text, pattern), end=\" \")\n",
        "\n",
        "if __name__ == \"__main__\":\n",
        "    text = 'ACGCGGCTCTGAAA'\n",
        "    k = 2\n",
        "    # with open(\"rosalind_ba1k.txt\", \"r\") as f:\n",
        "    #     text = f.readline().strip()\n",
        "    #     k = int(f.readline().strip())\n",
        "    compute_frequency_array(text, k)"
      ],
      "execution_count": 11,
      "outputs": [
        {
          "output_type": "stream",
          "name": "stdout",
          "text": [
            "2 1 0 0 0 0 2 2 1 2 1 0 0 1 1 0 "
          ]
        }
      ]
    },
    {
      "cell_type": "markdown",
      "metadata": {
        "id": "lQfonQm2Yy_R"
      },
      "source": [
        "# **Task 12**\n",
        "\n",
        "http://rosalind.info/problems/ba1l/\n",
        "\n",
        "Implement PatternToNumber"
      ]
    },
    {
      "cell_type": "code",
      "metadata": {
        "colab": {
          "base_uri": "https://localhost:8080/"
        },
        "id": "hL3SxHjzYzKs",
        "outputId": "5ac829f0-757b-42a6-a00d-216d004c31c6"
      },
      "source": [
        "def pattern_to_num(pattern):\n",
        "  encode = {'A':0, 'C':1, 'G':2, 'T':3}\n",
        "  k = len(pattern)\n",
        "  num = 0\n",
        "  j = k-1\n",
        "  for i in range(k):\n",
        "    num += encode[pattern[i]] * pow(4, j)\n",
        "    j -= 1\n",
        "  return num\n",
        "  \n",
        "if __name__ == \"__main__\":\n",
        "    dna = 'AGT'\n",
        "    # with open(\"rosalind_ba1k.txt\", \"r\") as f:\n",
        "    #     dna = f.readline().strip()\n",
        "    print(pattern_to_num(dna))"
      ],
      "execution_count": 12,
      "outputs": [
        {
          "output_type": "stream",
          "name": "stdout",
          "text": [
            "11\n"
          ]
        }
      ]
    },
    {
      "cell_type": "markdown",
      "metadata": {
        "id": "Uc1muh7YZrXZ"
      },
      "source": [
        "# **Task 13**\n",
        "\n",
        "http://rosalind.info/problems/ba1m/\n",
        "\n",
        "Implement NumberToPattern"
      ]
    },
    {
      "cell_type": "code",
      "metadata": {
        "colab": {
          "base_uri": "https://localhost:8080/"
        },
        "id": "sMK8do4GZrhT",
        "outputId": "a3ec294e-c3f6-4106-c538-3f3f58fe7077"
      },
      "source": [
        "def number_to_pattern(index, k):\n",
        "  bases = ['A', 'C', 'G', 'T']\n",
        "  pattern = ''\n",
        "  for i in range(k):\n",
        "    pattern += bases[index % 4]\n",
        "    index = index // 4\n",
        "  return pattern[::-1]\n",
        "  \n",
        "if __name__ == \"__main__\":\n",
        "    index = 45\n",
        "    k = 4\n",
        "    # with open(\"rosalind_ba1m.txt\", \"r\") as f:\n",
        "    #     index = int(f.readline().strip())\n",
        "    #     k = int(f.readline().strip())\n",
        "    print(number_to_pattern(index, k))"
      ],
      "execution_count": 13,
      "outputs": [
        {
          "output_type": "stream",
          "name": "stdout",
          "text": [
            "AGTC\n"
          ]
        }
      ]
    },
    {
      "cell_type": "markdown",
      "metadata": {
        "id": "Xua5AP-dab_8"
      },
      "source": [
        "# **Task 14**\n",
        "\n",
        "http://rosalind.info/problems/ba1n/\n",
        "\n",
        "Generate the d-Neighborhood of a String"
      ]
    },
    {
      "cell_type": "code",
      "metadata": {
        "colab": {
          "base_uri": "https://localhost:8080/"
        },
        "id": "pXnxN4EcacKb",
        "outputId": "fb1374de-f9f3-427e-d9a7-4a2f9155b00e"
      },
      "source": [
        "def get_array(k):\n",
        "    bases = ['A', 'C', 'G', 'T']\n",
        "    array = bases\n",
        "    for n in range(k-1):\n",
        "        array = [i+j for i in array for j in bases]\n",
        "    return array\n",
        "\n",
        "def HammingDistance(s1, s2):\n",
        "    dist = sum([1 for i in range(len(s1)) if s1[i]!=s2[i]])\n",
        "    return dist\n",
        "\n",
        "def get_neighbors(pattern, d):\n",
        "    array = get_array(len(pattern))\n",
        "    neighbors = []\n",
        "    for i in array:\n",
        "        if HammingDistance(pattern, i) <= d:\n",
        "            neighbors.append(i)\n",
        "    return neighbors\n",
        "\n",
        "if __name__ == \"__main__\":\n",
        "    text = 'ACG'\n",
        "    d = 1\n",
        "    # with open(\"rosalind_ba1n.txt\", \"r\") as f:\n",
        "    #     text = f.readline().strip()\n",
        "    #     d = int(f.readline().strip())\n",
        "    neighbours = get_neighbors(text, d)\n",
        "    for i in neighbours:\n",
        "        print(i)"
      ],
      "execution_count": 14,
      "outputs": [
        {
          "output_type": "stream",
          "name": "stdout",
          "text": [
            "AAG\nACA\nACC\nACG\nACT\nAGG\nATG\nCCG\nGCG\nTCG\n"
          ]
        }
      ]
    },
    {
      "cell_type": "code",
      "execution_count": null,
      "metadata": {},
      "outputs": [],
      "source": []
    }
  ]
}