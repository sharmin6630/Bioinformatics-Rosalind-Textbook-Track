{
  "nbformat": 4,
  "nbformat_minor": 0,
  "metadata": {
    "colab": {
      "name": "Chapter_3.ipynb",
      "provenance": [],
      "collapsed_sections": []
    },
    "kernelspec": {
      "name": "python3",
      "display_name": "Python 3"
    }
  },
  "cells": [
    {
      "cell_type": "markdown",
      "metadata": {
        "id": "vjUDH_q9piRv"
      },
      "source": [
        "# **Chapter 3**"
      ]
    },
    {
      "cell_type": "markdown",
      "metadata": {
        "id": "R65DgLVlp2Rz"
      },
      "source": [
        "#**Task1:**\n",
        "\n",
        "http://rosalind.info/problems/ba3a/\n",
        "\n",
        "Generate the k-mer Composition of a String\n",
        "\n"
      ]
    },
    {
      "cell_type": "code",
      "metadata": {
        "colab": {
          "base_uri": "https://localhost:8080/"
        },
        "id": "8T3wep0YqoU6",
        "outputId": "34d6ef6a-b49d-41ff-c944-b3ed5df47dc9"
      },
      "source": [
        "def generate_kmer(k, dna):\n",
        "    kmers = []\n",
        "    for i in range(len(dna)-k+1):\n",
        "        #print(dna[i:i+k])\n",
        "        kmers.append(dna[i:i+k])\n",
        "    return kmers\n",
        "        \n",
        "if __name__ == \"__main__\":\n",
        "    k = 5\n",
        "    dna='CAATCCAAC'\n",
        "    # with open(\"rosalind_ba3a.txt\", \"r\") as f:\n",
        "    #     k = int(f.readline().strip())\n",
        "    #     dna = f.readline().strip()\n",
        "    kmers = generate_kmer(k, dna)\n",
        "    with open(\"outfile.txt\", \"w\") as outfile:\n",
        "        outfile.write(\"\\n\".join(kmers))\n",
        "    for i in kmers:\n",
        "        print(i)"
      ],
      "execution_count": 46,
      "outputs": [
        {
          "output_type": "stream",
          "text": [
            "CAATC\n",
            "AATCC\n",
            "ATCCA\n",
            "TCCAA\n",
            "CCAAC\n"
          ],
          "name": "stdout"
        }
      ]
    },
    {
      "cell_type": "markdown",
      "metadata": {
        "id": "DtXMt8y7p2nF"
      },
      "source": [
        "#**Task2:**\n",
        "\n",
        "http://rosalind.info/problems/ba3b/\n",
        "\n",
        "Reconstruct a String from its Genome Path\n",
        "\n"
      ]
    },
    {
      "cell_type": "code",
      "metadata": {
        "colab": {
          "base_uri": "https://localhost:8080/"
        },
        "id": "5ZZZ_pEiqo2M",
        "outputId": "f421777d-3204-4746-baa6-67adeb50feba"
      },
      "source": [
        "def generate_genome(sequences):\n",
        "    string = sequences[0]\n",
        "    for i in range(1, len(sequences)):\n",
        "        #print(sequences[i][-1])\n",
        "        string += sequences[i][-1]\n",
        "    return string\n",
        "\n",
        "if __name__ == '__main__':\n",
        "    kmers = ['ACCGA',\n",
        "         'CCGAA',\n",
        "         'CGAAG',\n",
        "         'GAAGC',\n",
        "         'AAGCT']\n",
        "    # with open('rosalind_ba3b.txt', 'r') as f:\n",
        "    #     kmers = [line.strip() for line in f.readlines()]\n",
        "    print(generate_genome(kmers))"
      ],
      "execution_count": 47,
      "outputs": [
        {
          "output_type": "stream",
          "text": [
            "ACCGAAGCT\n"
          ],
          "name": "stdout"
        }
      ]
    },
    {
      "cell_type": "markdown",
      "metadata": {
        "id": "Ey16rphrp2wW"
      },
      "source": [
        "#**Task3:**\n",
        "\n",
        "http://rosalind.info/problems/ba3c/\n",
        "\n",
        "Construct the Overlap Graph of a Collection of k-mers"
      ]
    },
    {
      "cell_type": "code",
      "metadata": {
        "colab": {
          "base_uri": "https://localhost:8080/"
        },
        "id": "whNGNGCiqpTB",
        "outputId": "f93c3230-5875-4861-b58c-c28da72d104a"
      },
      "source": [
        "def overlap(patterns):\n",
        "    total = len(patterns)\n",
        "    result = []\n",
        "    for i in range(total):\n",
        "        for j in range(total):\n",
        "            if i == j:\n",
        "                continue\n",
        "            #print(patterns[i][1:], patterns[j][:-1])\n",
        "            if patterns[i][1:] == patterns[j][:-1]:\n",
        "                result.append(patterns[i] + ' -> ' + patterns[j])\n",
        "    return result\n",
        "\n",
        "if __name__ == '__main__':\n",
        "    kmers = ['ATGCG',\n",
        "             'GCATG',\n",
        "             'CATGC',\n",
        "             'AGGCA',\n",
        "             'GGCAT']\n",
        "    # with open('rosalind_ba3c.txt', 'r') as f:\n",
        "    #     kmers = [line.strip() for line in f]\n",
        "    result = overlap(kmers)\n",
        "    with open(\"outfile.txt\", \"w\") as outfile:\n",
        "        outfile.write(\"\\n\".join(result))\n",
        "    for i in result:\n",
        "        print(i)"
      ],
      "execution_count": 48,
      "outputs": [
        {
          "output_type": "stream",
          "text": [
            "GCATG -> CATGC\n",
            "CATGC -> ATGCG\n",
            "AGGCA -> GGCAT\n",
            "GGCAT -> GCATG\n"
          ],
          "name": "stdout"
        }
      ]
    },
    {
      "cell_type": "markdown",
      "metadata": {
        "id": "5299Fp-8p25H"
      },
      "source": [
        "#**Task4:**\n",
        "\n",
        "http://rosalind.info/problems/ba3d/\n",
        "\n",
        "Construct the De Bruijn Graph of a String\n",
        "\n"
      ]
    },
    {
      "cell_type": "code",
      "metadata": {
        "colab": {
          "base_uri": "https://localhost:8080/"
        },
        "id": "Wlw8JIH9qp8N",
        "outputId": "f9132bf3-9d43-46d8-e4ec-ada88946119a"
      },
      "source": [
        "def DeBruijn(genome, k):\n",
        "    result = {}\n",
        "    for i in range(len(genome)-k+1):\n",
        "        if genome[i:i+k-1] in result: \n",
        "            result[genome[i:i+k-1]] += ',' + genome[i+1:i+k]\n",
        "        else: \n",
        "            result[genome[i:i+k-1]] = genome[i+1:i+k]\n",
        "    return result\n",
        "\n",
        "if __name__ == '__main__':\n",
        "    k = 4\n",
        "    genome = 'AAGATTCTCTAC'\n",
        "    # with open('rosalind_ba3d.txt', 'r') as f:\n",
        "    #     k = int(f.readline().strip())\n",
        "    #     genome = f.readline().strip()\n",
        "    result = DeBruijn(genome, k)\n",
        "    output = []\n",
        "    for key in sorted(result.keys()):\n",
        "        print(key + ' -> ' + result[key])\n",
        "        output.append(key + ' -> ' + result[key])\n",
        "    with open(\"outfile.txt\", \"w\") as outfile:\n",
        "        outfile.write(\"\\n\".join(output))"
      ],
      "execution_count": 49,
      "outputs": [
        {
          "output_type": "stream",
          "text": [
            "AAG -> AGA\n",
            "AGA -> GAT\n",
            "ATT -> TTC\n",
            "CTA -> TAC\n",
            "CTC -> TCT\n",
            "GAT -> ATT\n",
            "TCT -> CTC,CTA\n",
            "TTC -> TCT\n"
          ],
          "name": "stdout"
        }
      ]
    },
    {
      "cell_type": "markdown",
      "metadata": {
        "id": "S4JUedttp3BB"
      },
      "source": [
        "#**Task5:**\n",
        "\n",
        "http://rosalind.info/problems/ba3e/\n",
        "\n",
        "Construct the De Bruijn Graph of a Collection of k-mers"
      ]
    },
    {
      "cell_type": "code",
      "metadata": {
        "colab": {
          "base_uri": "https://localhost:8080/"
        },
        "id": "E5G0RzIjqqeW",
        "outputId": "41ed409c-4fb9-4be7-91e0-e45cbcc4f4d9"
      },
      "source": [
        "def debruijn(kmers):\n",
        "    result = {}\n",
        "    for pattern in kmers:\n",
        "        if pattern[:-1] in result:\n",
        "            result[pattern[:-1]] += ','+ pattern[1:]\n",
        "        else:\n",
        "            result[pattern[:-1]] = pattern[1:]\n",
        "    return result\n",
        "\n",
        "if __name__ == '__main__':\n",
        "    kmers = ['GAGG',\n",
        "             'CAGG',\n",
        "             'GGGG',\n",
        "             'GGGA',\n",
        "             'CAGG',\n",
        "             'AGGG',\n",
        "             'GGAG']\n",
        "    # with open('rosalind_ba3e.txt', 'r') as f:\n",
        "    #     kmers = [line.strip() for line in f.readlines()]\n",
        "    result = debruijn(kmers)\n",
        "    output = []\n",
        "    for key in sorted(result.keys()):\n",
        "        print(key + ' -> ' + result[key])\n",
        "        output.append(key + ' -> ' + result[key])\n",
        "    with open(\"outfile.txt\", \"w\") as outfile:\n",
        "        outfile.write(\"\\n\".join(output))"
      ],
      "execution_count": 50,
      "outputs": [
        {
          "output_type": "stream",
          "text": [
            "AGG -> GGG\n",
            "CAG -> AGG,AGG\n",
            "GAG -> AGG\n",
            "GGA -> GAG\n",
            "GGG -> GGG,GGA\n"
          ],
          "name": "stdout"
        }
      ]
    },
    {
      "cell_type": "markdown",
      "metadata": {
        "id": "bn85caP6qS0J"
      },
      "source": [
        "# **Task 6**\n",
        "\n",
        "http://rosalind.info/problems/ba3f/\n",
        "\n",
        "Find an Eulerian Cycle in a Graph"
      ]
    },
    {
      "cell_type": "code",
      "metadata": {
        "id": "L1ojRDL9qcQo",
        "colab": {
          "base_uri": "https://localhost:8080/"
        },
        "outputId": "ecbf2665-d25a-4bc9-e400-889919bc9b33"
      },
      "source": [
        "import random\n",
        "\n",
        "def eulerian_cycle(graph):\n",
        "    stack = []\n",
        "    cycle = []\n",
        "    current_node = random.choice(list(graph.keys()))\n",
        "    while True:\n",
        "        if (len(graph[current_node]) > 0):\n",
        "            stack.append(current_node)\n",
        "            target_node = graph[current_node][0]\n",
        "            graph[current_node].remove(target_node)\n",
        "            current_node = target_node\n",
        "        else:\n",
        "            cycle.insert(0, current_node)\n",
        "            if (len(stack) > 0):\n",
        "                current_node = stack.pop()\n",
        "            else:\n",
        "                break\n",
        "    return cycle\n",
        "\n",
        "if __name__ == \"__main__\":\n",
        "    graph = ['0 -> 3', '1 -> 0', '2 -> 1,6', '3 -> 2',\n",
        "    '4 -> 2', '5 -> 4', '6 -> 5,8', '7 -> 9', '8 -> 7', '9 -> 6'] \n",
        "    graph = [line.split(' -> ') for line in graph]\n",
        "    graph = [(line[0], line[1].split(',')) for line in graph]\n",
        "    # with open(\"rosalind_ba3f.txt\", \"r\") as f:\n",
        "    #     graph = []\n",
        "    #     graph = f.readlines()\n",
        "    #     #print(graph)\n",
        "    #     graph = [line.strip().split(' -> ') for line in graph]\n",
        "    #     graph = [(line[0], line[1].split(',')) for line in graph]\n",
        "    graph = dict(graph)\n",
        "    #print(graph)\n",
        "    path = eulerian_cycle(graph)\n",
        "    print('->'.join(path))"
      ],
      "execution_count": 51,
      "outputs": [
        {
          "output_type": "stream",
          "text": [
            "2->1->0->3->2->6->8->7->9->6->5->4->2\n"
          ],
          "name": "stdout"
        }
      ]
    },
    {
      "cell_type": "markdown",
      "metadata": {
        "id": "x_GBeFUcqqtv"
      },
      "source": [
        "# **Task 7**\n",
        "\n",
        "http://rosalind.info/problems/ba3g/\n",
        "\n",
        "Find an Eulerian Path in a Graph"
      ]
    },
    {
      "cell_type": "code",
      "metadata": {
        "id": "c_Xj6qmBqrA_",
        "colab": {
          "base_uri": "https://localhost:8080/"
        },
        "outputId": "c477c3c2-6adc-411f-e5c1-2903de809647"
      },
      "source": [
        "def calculate_degree(graph):\n",
        "    degree = {}\n",
        "    for node in graph:\n",
        "        degree.setdefault(node, [0,0]) #[indegree, outdegree]\n",
        "        degree[node][1] += len(graph[node])\n",
        "        for target_node in graph[node]:\n",
        "            degree.setdefault(target_node, [0,0])\n",
        "            degree[target_node][0] += 1\n",
        "    return degree\n",
        "\n",
        "def calculate_start_node(degree):\n",
        "    return [key for key in degree if degree[key][0] < degree[key][1]][0]\n",
        "\n",
        "def eulerian_path(graph):\n",
        "    stack = []\n",
        "    path = []\n",
        "    degree = calculate_degree(graph)\n",
        "    current_node = calculate_start_node(degree)\n",
        "    while True:\n",
        "        if current_node in graph and len(graph[current_node]) > 0:\n",
        "            stack.append(current_node)\n",
        "            target_node = graph[current_node][0]\n",
        "            graph[current_node].remove(target_node)\n",
        "            current_node = target_node\n",
        "        else:\n",
        "            path.insert(0, current_node)\n",
        "            if len(stack) > 0:\n",
        "                current_node = stack.pop()\n",
        "            else:\n",
        "                break\n",
        "    return path\n",
        "\n",
        "\n",
        "if __name__ == \"__main__\":\n",
        "    graph = ['0 -> 2', '1 -> 3', '2 -> 1', '3 -> 0,4', '6 -> 3,7', '7 -> 8', '8 -> 9', '9 -> 6'] \n",
        "    graph = [line.split(' -> ') for line in graph]\n",
        "    graph = [(line[0], line[1].split(',')) for line in graph]\n",
        "    # with open(\"rosalind_ba3g.txt\", \"r\") as f:\n",
        "    #     graph = []\n",
        "    #     graph = f.readlines()\n",
        "    #     #print(graph)\n",
        "    #     graph = [line.strip().split(' -> ') for line in graph]\n",
        "    #     graph = [(line[0], line[1].split(',')) for line in graph]\n",
        "    graph = dict(graph)\n",
        "    path = eulerian_path(graph)\n",
        "    print('->'.join(path))"
      ],
      "execution_count": 52,
      "outputs": [
        {
          "output_type": "stream",
          "text": [
            "6->7->8->9->6->3->0->2->1->3->4\n"
          ],
          "name": "stdout"
        }
      ]
    },
    {
      "cell_type": "markdown",
      "metadata": {
        "id": "RYBtPwFqK0t3"
      },
      "source": [
        "# **Task 8**\n",
        "\n",
        "http://rosalind.info/problems/ba3h/\n",
        "\n",
        "Reconstruct a String from its k-mer Composition"
      ]
    },
    {
      "cell_type": "code",
      "metadata": {
        "colab": {
          "base_uri": "https://localhost:8080/"
        },
        "id": "G0dOecapitvE",
        "outputId": "c7c8b72b-6011-4500-e533-a32380adcfbb"
      },
      "source": [
        "def overlap(patterns):\n",
        "    result = {}\n",
        "    for i in range(len(patterns)):\n",
        "        result[patterns[i]] = []\n",
        "        for j in range(len(patterns)):\n",
        "            if i == j:\n",
        "                continue\n",
        "            #print(patterns[i][1:], patterns[j][:-1])\n",
        "            if patterns[i][1:] == patterns[j][:-1]:\n",
        "                #print(patterns[i][1:], patterns[j][:-1], patterns[i], patterns[j])\n",
        "                result[patterns[i]].append(patterns[j])\n",
        "    return result\n",
        "\n",
        "def calculate_degree(graph):\n",
        "    degree = {}\n",
        "    for node in graph:\n",
        "        degree.setdefault(node, [0,0]) #[indegree, outdegree]\n",
        "        degree[node][1] += len(graph[node])\n",
        "        for target_node in graph[node]:\n",
        "            degree.setdefault(target_node, [0,0])\n",
        "            degree[target_node][0] += 1\n",
        "    return degree\n",
        "\n",
        "def calculate_start_node(degree):\n",
        "    return [key for key in degree if degree[key][0] < degree[key][1]][0]\n",
        "\n",
        "def eulerian_path(graph):\n",
        "    stack = []\n",
        "    path = []\n",
        "    degree = calculate_degree(graph)\n",
        "    current_node = calculate_start_node(degree)\n",
        "    while True:\n",
        "        if current_node in graph and len(graph[current_node]) > 0:\n",
        "            stack.append(current_node)\n",
        "            target_node = graph[current_node][0]\n",
        "            graph[current_node].remove(target_node)\n",
        "            current_node = target_node\n",
        "        else:\n",
        "            path.insert(0, current_node)\n",
        "            if len(stack) > 0:\n",
        "                current_node = stack.pop()\n",
        "            else:\n",
        "                break\n",
        "    return path\n",
        "\n",
        "def genome_path(patterns):\n",
        "    genome = patterns[0]\n",
        "    for pattern in patterns[1:]:\n",
        "    \tgenome += pattern[-1]\n",
        "    return genome\n",
        "\n",
        "if __name__ == \"__main__\":\n",
        "    num = 4\n",
        "    patterns = ['CTTA', 'ACCA', 'TACC', 'GGCT', 'GCTT', 'TTAC']\n",
        "    # with open(\"rosalind_ba3h.txt\") as f:\n",
        "    #     f = f.read().splitlines()\n",
        "    #     num = f[0]\n",
        "    #     patterns = []\n",
        "    #     for i in range(1, len(f)):\n",
        "    #         patterns.append(f[i])\n",
        "    graph = overlap(patterns)\n",
        "    path = eulerian_path(graph)\n",
        "    #print(path)\n",
        "    genome = genome_path(path)\n",
        "    print(genome)\n"
      ],
      "execution_count": 53,
      "outputs": [
        {
          "output_type": "stream",
          "text": [
            "GGCTTACCA\n"
          ],
          "name": "stdout"
        }
      ]
    },
    {
      "cell_type": "markdown",
      "metadata": {
        "id": "dnKBef9aj7cF"
      },
      "source": [
        "# **Task 9**\n",
        "\n",
        "http://rosalind.info/problems/ba3i/\n",
        "\n",
        "Find a k-Universal Circular String"
      ]
    },
    {
      "cell_type": "code",
      "metadata": {
        "id": "z5cPD6ZmK06I",
        "colab": {
          "base_uri": "https://localhost:8080/"
        },
        "outputId": "e5b7d8d5-9666-4138-97ce-3743549fbd7c"
      },
      "source": [
        "import random\n",
        "import itertools\n",
        "\n",
        "def debruijn(kmers):\n",
        "    result = {}\n",
        "    for pattern in kmers:\n",
        "        result.setdefault(pattern[:-1], [])\n",
        "        result[pattern[:-1]].append(pattern[1:])\n",
        "    return result\n",
        "\n",
        "def binary_string(k):\n",
        "    patterns = [\"\".join(seq) for seq in itertools.product(\"01\", repeat=k)]\n",
        "    return patterns\n",
        "\n",
        "def eulerian_cycle(graph):\n",
        "    stack = []\n",
        "    cycle = []\n",
        "    current_node = random.choice(list(graph.keys()))\n",
        "    while True:\n",
        "        if (len(graph[current_node]) > 0):\n",
        "            stack.append(current_node)\n",
        "            target_node = graph[current_node][0]\n",
        "            graph[current_node].remove(target_node)\n",
        "            current_node = target_node\n",
        "        else:\n",
        "            cycle.insert(0, current_node)\n",
        "            if (len(stack) > 0):\n",
        "                current_node = stack.pop()\n",
        "            else:\n",
        "                break\n",
        "    return cycle\n",
        "\n",
        "def generate_circular_string(sequences):\n",
        "    string = sequences[0]\n",
        "    for i in range(1, len(sequences)-(k-1)):\n",
        "        #print(sequences[i][-1])\n",
        "        string += sequences[i][-1]\n",
        "    return string\n",
        "\n",
        "def k_universal_circular_string(k):\n",
        "    patterns = binary_string(k)\n",
        "    graph = debruijn(patterns)\n",
        "    cycle = eulerian_cycle(graph)\n",
        "    #print(cycle)\n",
        "    string = generate_circular_string(cycle)\n",
        "    return string\n",
        "\n",
        "if __name__ == \"__main__\":\n",
        "    k = 4\n",
        "    # with open(\"rosalind_ba3i.txt\") as f:\n",
        "    #     k = int(f.readline())\n",
        "    result = k_universal_circular_string(k)\n",
        "    print(result)"
      ],
      "execution_count": 54,
      "outputs": [
        {
          "output_type": "stream",
          "text": [
            "1100001001101011\n"
          ],
          "name": "stdout"
        }
      ]
    },
    {
      "cell_type": "markdown",
      "metadata": {
        "id": "nLJ0Qfy3b9xa"
      },
      "source": [
        "# **Task 10**\n",
        "\n",
        "http://rosalind.info/problems/ba3j/\n",
        "\n",
        "Reconstruct a String from its Paired Composition"
      ]
    },
    {
      "cell_type": "code",
      "metadata": {
        "id": "hxq0ehYRb-I0",
        "colab": {
          "base_uri": "https://localhost:8080/"
        },
        "outputId": "75770ffc-eea0-4052-8b02-c7219198f2cc"
      },
      "source": [
        "import random\n",
        "import itertools\n",
        "\n",
        "def debruijn(kmers):\n",
        "    result = {}\n",
        "    for pattern in kmers:\n",
        "        result.setdefault(pattern[:-1], [])\n",
        "        result[pattern[:-1]].append(pattern[1:])\n",
        "    return result\n",
        "\n",
        "def calculate_degree(graph):\n",
        "    degree = {}\n",
        "    for node in graph:\n",
        "        degree.setdefault(node, [0,0]) #[indegree, outdegree]\n",
        "        degree[node][1] += len(graph[node])\n",
        "        for target_node in graph[node]:\n",
        "            degree.setdefault(target_node, [0,0])\n",
        "            degree[target_node][0] += 1\n",
        "    return degree\n",
        "\n",
        "def calculate_start_node(degree):\n",
        "    return [key for key in degree if degree[key][0] < degree[key][1]][0]\n",
        "\n",
        "def eulerian_path(graph):\n",
        "    stack = []\n",
        "    path = []\n",
        "    degree = calculate_degree(graph)\n",
        "    current_node = calculate_start_node(degree)\n",
        "    while True:\n",
        "        if current_node in graph and len(graph[current_node]) > 0:\n",
        "            stack.append(current_node)\n",
        "            target_node = graph[current_node][0]\n",
        "            graph[current_node].remove(target_node)\n",
        "            current_node = target_node\n",
        "        else:\n",
        "            path.insert(0, current_node)\n",
        "            if len(stack) > 0:\n",
        "                current_node = stack.pop()\n",
        "            else:\n",
        "                break\n",
        "    return path\n",
        "\n",
        "def construct_string(path):\n",
        "    string = path[0][0]\n",
        "    for p in path[1:]:\n",
        "        #print(p)\n",
        "        string += p[0][-1]\n",
        "    for p in path[-k-d:]:\n",
        "        string += p[1][-1]\n",
        "    return string\n",
        "\n",
        "def de_bruijn_from_paired_reads(patterns, k):\n",
        "    graph = {}\n",
        "    for text in patterns:\n",
        "        prefix = (text[:k-1], text[k+1:-1])\n",
        "        suffix = (text[1:k], text[k+2:])\n",
        "        if prefix not in graph.keys():\n",
        "            graph[prefix] = []\n",
        "        graph[prefix].append(suffix)\n",
        "    path = eulerian_path(graph)\n",
        "    #print(path)\n",
        "    string = construct_string(path)\n",
        "    return string\n",
        "\n",
        "if __name__ == \"__main__\":\n",
        "    k = 4\n",
        "    d = 2\n",
        "    patterns = ['GAGA|TTGA', 'TCGT|GATG', 'CGTG|ATGT', 'TGGT|TGAG', 'GTGA|TGTT',\n",
        "                'GTGG|GTGA', 'TGAG|GTTG', 'GGTC|GAGA', 'GTCG|AGAT']\n",
        "    # with open(\"rosalind_ba3j.txt\") as f:\n",
        "    #     numbers = f.readline().split()\n",
        "    #     k = int(numbers[0])\n",
        "    #     d = int(numbers[1])\n",
        "    #     patterns = f.readlines()\n",
        "    #     patterns = [p.strip() for p in patterns]\n",
        "    result = de_bruijn_from_paired_reads(patterns, k)\n",
        "    print(result)"
      ],
      "execution_count": 55,
      "outputs": [
        {
          "output_type": "stream",
          "text": [
            "GTGGTCGTGAGATGTTGA\n"
          ],
          "name": "stdout"
        }
      ]
    },
    {
      "cell_type": "markdown",
      "metadata": {
        "id": "rWA3tklhkBJI"
      },
      "source": [
        "# **Task 11**\n",
        "\n",
        "http://rosalind.info/problems/ba3k/\n",
        "\n",
        "Generate Contigs from a Collection of Reads"
      ]
    },
    {
      "cell_type": "code",
      "metadata": {
        "id": "IBKGqlV0kRhU",
        "colab": {
          "base_uri": "https://localhost:8080/"
        },
        "outputId": "7b4c4d1c-b1f8-49b9-f8ec-e64fe9f50f84"
      },
      "source": [
        "def debruijn(kmers):\n",
        "    result = {}\n",
        "    for pattern in kmers:\n",
        "        result.setdefault(pattern[:-1], [])\n",
        "        result[pattern[:-1]].append(pattern[1:])\n",
        "    return result\n",
        "\n",
        "def calculate_degree(graph):\n",
        "    degree = {}\n",
        "    for node in graph:\n",
        "        degree.setdefault(node, [0,0]) #[indegree, outdegree]\n",
        "        degree[node][1] += len(graph[node])\n",
        "        for target_node in graph[node]:\n",
        "            degree.setdefault(target_node, [0,0])\n",
        "            degree[target_node][0] += 1\n",
        "    return degree\n",
        "\n",
        "def genome_path(patterns):\n",
        "    genome = patterns[0]\n",
        "    for pattern in patterns[1:]:\n",
        "    \tgenome += pattern[-1]\n",
        "    return genome\n",
        "\n",
        "def maximal_non_branching_paths(graph):\n",
        "    paths = []\n",
        "    visited = [] \n",
        "    degree = calculate_degree(graph)\n",
        "    for current_node in graph:\n",
        "        if degree[current_node][0] != 1 or degree[current_node][1] != 1:  \n",
        "            visited.append(current_node)\n",
        "            if degree[current_node][1] > 0:\n",
        "                for target_node in graph[current_node]:\n",
        "                    path = [current_node, target_node]\n",
        "                    while degree[target_node][0] == 1 and degree[target_node][1] == 1:\n",
        "                        visited.append(target_node)\n",
        "                        target_node = graph[target_node][0]\n",
        "                        path.append(target_node)\n",
        "                    paths.append(path)\n",
        "    for current_node in graph:\n",
        "        if degree[current_node][0] == 1 and degree[current_node][1] == 1:\n",
        "            if current_node not in visited:\n",
        "                visited.append(current_node)\n",
        "                target_node = graph[current_node][0]\n",
        "                cycle = [current_node]\n",
        "                while degree[target_node][0] == 1 and degree[target_node][1] == 1:\n",
        "                    visited.append(target_node)\n",
        "                    cycle.append(target_node)\n",
        "                    if current_node == target_node:\n",
        "                        break\n",
        "                    target_node = graph[target_node][0]\n",
        "                paths.append(cycle)\n",
        "    return paths\n",
        "\n",
        "def ContigsFromReads(patterns):\n",
        "    contigs = []\n",
        "    graph = debruijn(patterns)\n",
        "    #print(graph)\n",
        "    paths = maximal_non_branching_paths(graph)\n",
        "    #print(paths)\n",
        "    for path in paths:\n",
        "        contigs.append(genome_path(path))\n",
        "    return contigs\n",
        "\n",
        "if __name__ == \"__main__\":\n",
        "    patterns = ['ATG', 'ATG', 'TGT', 'TGG', 'CAT', 'GGA', 'GAT', 'AGA']\n",
        "    # with open(\"rosalind_ba3k.txt\") as f:\n",
        "    #     f = f.read().splitlines()\n",
        "    #     patterns = []\n",
        "    #     for i in range(len(f)):\n",
        "    #         patterns.append(f[i])\n",
        "    #     #print(patterns)\n",
        "    contigs = ContigsFromReads(patterns)\n",
        "    out = open(\"out_ba3k.txt\", \"w\")\n",
        "    #out.writelines(contigs)\n",
        "    #out.close()\n",
        "    for contig in contigs:\n",
        "        out.write(contig)\n",
        "        out.write(\"\\n\")\n",
        "        print(contig, end=\" \")\n",
        "    out.close()"
      ],
      "execution_count": 56,
      "outputs": [
        {
          "output_type": "stream",
          "text": [
            "ATG ATG TGT TGGA CAT GAT AGA "
          ],
          "name": "stdout"
        }
      ]
    },
    {
      "cell_type": "markdown",
      "metadata": {
        "id": "WX3YBQERkTYP"
      },
      "source": [
        "# **Task 12**\n",
        "\n",
        "http://rosalind.info/problems/ba3l/\n",
        "\n",
        "Construct a String Spelled by a Gapped Genome Path"
      ]
    },
    {
      "cell_type": "code",
      "metadata": {
        "id": "nyzvQCHDkbY5",
        "colab": {
          "base_uri": "https://localhost:8080/"
        },
        "outputId": "eb91d4a7-d46a-4ab7-8b17-cb1823cea770"
      },
      "source": [
        "def string_from_gapped_genome(k, d, patterns):\n",
        "    string = patterns[0][0]\n",
        "    for p in patterns[1:d+1]:\n",
        "        string += p[0][-1]\n",
        "    string += patterns[0][1]\n",
        "    for p in patterns[1:]:\n",
        "        string += p[1][-1]\n",
        "    return string\n",
        "\n",
        "if __name__ == \"__main__\":\n",
        "    k = 4\n",
        "    d = 2\n",
        "    patterns = ['GACC|GCGC', 'ACCG|CGCC', 'CCGA|GCCG', 'CGAG|CCGG','GAGC|CGGA']\n",
        "    patterns = [p.split('|') for p in patterns]\n",
        "    # with open(\"rosalind_ba3i.txt\") as f:\n",
        "    #     numbers = f.readline().split()\n",
        "    #     k = int(numbers[0])\n",
        "    #     d = int(numbers[1])\n",
        "    #     patterns = f.readlines()\n",
        "    #     patterns = [p.strip().split('|') for p in patterns]\n",
        "    result = string_from_gapped_genome(k, d, patterns)\n",
        "    print(result)"
      ],
      "execution_count": 57,
      "outputs": [
        {
          "output_type": "stream",
          "text": [
            "GACCGAGCGCCGGA\n"
          ],
          "name": "stdout"
        }
      ]
    },
    {
      "cell_type": "markdown",
      "metadata": {
        "id": "ZFPaSsh5kbr5"
      },
      "source": [
        "# **Task 13**\n",
        "\n",
        "http://rosalind.info/problems/ba3m/\n",
        "\n",
        "Generate All Maximal Non-Branching Paths in a Graph"
      ]
    },
    {
      "cell_type": "code",
      "metadata": {
        "id": "O6CCnGR8kgIk",
        "colab": {
          "base_uri": "https://localhost:8080/"
        },
        "outputId": "2f19485a-544e-48a0-d808-a89280180d70"
      },
      "source": [
        "def calculate_degree(graph):\n",
        "    degree = {}\n",
        "    for node in graph:\n",
        "        degree.setdefault(node, [0,0]) #[indegree, outdegree]\n",
        "        degree[node][1] += len(graph[node])\n",
        "        for target_node in graph[node]:\n",
        "            degree.setdefault(target_node, [0,0])\n",
        "            degree[target_node][0] += 1\n",
        "    return degree\n",
        "\n",
        "def maximal_non_branching_paths(graph):\n",
        "    paths = []\n",
        "    visited = [] \n",
        "    degree = calculate_degree(graph)\n",
        "    for current_node in graph:\n",
        "        if degree[current_node][0] != 1 or degree[current_node][1] != 1:  \n",
        "            visited.append(current_node)\n",
        "            if degree[current_node][1] > 0:\n",
        "                for target_node in graph[current_node]:\n",
        "                    path = [current_node, target_node]\n",
        "                    while degree[target_node][0] == 1 and degree[target_node][1] == 1:\n",
        "                        visited.append(target_node)\n",
        "                        target_node = graph[target_node][0]\n",
        "                        path.append(target_node)\n",
        "                    paths.append(path)\n",
        "    for current_node in graph:\n",
        "        if degree[current_node][0] == 1 and degree[current_node][1] == 1:\n",
        "            if current_node not in visited:\n",
        "                visited.append(current_node)\n",
        "                target_node = graph[current_node][0]\n",
        "                cycle = [current_node]\n",
        "                while degree[target_node][0] == 1 and degree[target_node][1] == 1:\n",
        "                    visited.append(target_node)\n",
        "                    cycle.append(target_node)\n",
        "                    if current_node == target_node:\n",
        "                        break\n",
        "                    target_node = graph[target_node][0]\n",
        "                paths.append(cycle)\n",
        "    return paths\n",
        "\n",
        "if __name__ == \"__main__\":\n",
        "    graph = ['1 -> 2', '2 -> 3', '3 -> 4,5', '6 -> 7', '7 -> 6'] \n",
        "    graph = [line.split(' -> ') for line in graph]\n",
        "    graph = [(line[0], line[1].split(',')) for line in graph]\n",
        "    # with open(\"rosalind_ba3m.txt\", \"r\") as f:\n",
        "    #     graph = []\n",
        "    #     graph = f.readlines()\n",
        "    #     #print(graph)\n",
        "    #     graph = [line.strip().split(' -> ') for line in graph]\n",
        "    #     graph = [(line[0], line[1].split(',')) for line in graph]\n",
        "    graph = dict(graph)\n",
        "    #print(graph)\n",
        "    paths = maximal_non_branching_paths(graph)\n",
        "    for path in paths:\n",
        "        print('->'.join(path))"
      ],
      "execution_count": 58,
      "outputs": [
        {
          "output_type": "stream",
          "text": [
            "1->2->3\n",
            "3->4\n",
            "3->5\n",
            "6->7->6\n"
          ],
          "name": "stdout"
        }
      ]
    }
  ]
}