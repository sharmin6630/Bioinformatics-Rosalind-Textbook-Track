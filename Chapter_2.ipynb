{
  "nbformat": 4,
  "nbformat_minor": 0,
  "metadata": {
    "colab": {
      "name": "Chapter_2.ipynb",
      "provenance": [],
      "collapsed_sections": []
    },
    "kernelspec": {
      "name": "python37764bitcodesconda65f9a13fd3f3408ea5234ca36b878887",
      "display_name": "Python 3.7.7 64-bit ('codes': conda)"
    },
    "metadata": {
      "interpreter": {
        "hash": "6cfb4932265d43b27c5a78170677dd7e3b600af38b654235a505386ffcc5e43d"
      }
    }
  },
  "cells": [
    {
      "cell_type": "markdown",
      "metadata": {
        "id": "vjUDH_q9piRv"
      },
      "source": [
        "# **Chapter 2**"
      ]
    },
    {
      "cell_type": "markdown",
      "metadata": {
        "id": "R65DgLVlp2Rz"
      },
      "source": [
        "#**Task1:**\n",
        "\n",
        "http://rosalind.info/problems/ba2a/\n",
        "\n",
        "Implement MotifEnumeration\n",
        "\n"
      ]
    },
    {
      "cell_type": "code",
      "metadata": {
        "colab": {
          "base_uri": "https://localhost:8080/"
        },
        "id": "8T3wep0YqoU6",
        "outputId": "3c5b5831-4591-4893-f846-7a3eb8224b92"
      },
      "source": [
        "def neighbour(pattern, mismatch, words):\n",
        "    if mismatch == 0:\n",
        "        words.add(pattern)\n",
        "    else:\n",
        "        bases = ['A', 'T', 'C', 'G']\n",
        "        for i in range(len(pattern)):\n",
        "            for j in range(len(bases)):\n",
        "                new_pattern = pattern[:i] + bases[j] + pattern[i+1:]\n",
        "                if mismatch <= 1:\n",
        "                    words.add(new_pattern)\n",
        "                else:\n",
        "                    neighbour(new_pattern, mismatch-1, words)\n",
        "\n",
        "def MotifEnumeration(dna, k, d):\n",
        "    patterns = []\n",
        "    for n in range(len(dna)):\n",
        "        pattern = set()\n",
        "        for i in range(len(dna[n]) - k + 1):\n",
        "            kmerspattern = set()\n",
        "            neighbour(dna[n][i:i + k], d, kmerspattern)\n",
        "            for words in kmerspattern:\n",
        "                pattern.add(words)\n",
        "        for j in pattern:\n",
        "            patterns.append(j)\n",
        "    motifpattern = []\n",
        "    for element in patterns:\n",
        "        if patterns.count(element) == len(dna):\n",
        "            motifpattern.append(element)\n",
        "    motifpattern = list(set(motifpattern))\n",
        "    return motifpattern\n",
        "\n",
        "if __name__ == \"__main__\":\n",
        "    k, d = 3, 1\n",
        "    dna = ['ATTTGGC',\n",
        "           'TGCCTTA',\n",
        "           'CGGTATC',\n",
        "           'GAAAATT']\n",
        "    # with open(\"rosalind_ba2a.txt\", \"r\") as f:\n",
        "    #     k, d = map(int, f.readline().strip().split())\n",
        "    #     dna = [line.strip() for line in f]\n",
        "    result = MotifEnumeration(dna, k, d)\n",
        "    for i in result:\n",
        "        print(i)"
      ],
      "execution_count": 1,
      "outputs": [
        {
          "output_type": "stream",
          "name": "stdout",
          "text": [
            "TTT\nGTT\nATA\nATT\n"
          ]
        }
      ]
    },
    {
      "cell_type": "markdown",
      "metadata": {
        "id": "DtXMt8y7p2nF"
      },
      "source": [
        "#**Task2:**\n",
        "\n",
        "http://rosalind.info/problems/ba2b/\n",
        "\n",
        "Find a Median String\n",
        "\n"
      ]
    },
    {
      "cell_type": "code",
      "metadata": {
        "colab": {
          "base_uri": "https://localhost:8080/"
        },
        "id": "5ZZZ_pEiqo2M",
        "outputId": "f996d331-22f2-4483-e365-f129f980fee3"
      },
      "source": [
        "from itertools import product\n",
        "\n",
        "def pattern_generate(k):\n",
        "  bases = ['A', 'C', 'G', 'T']\n",
        "  results = []\n",
        "  for c in product(bases, repeat=k):\n",
        "    word = ''.join(c)\n",
        "    results.append(word)\n",
        "  return results\n",
        "    \n",
        "def min_hamming_distance(pattern, string):\n",
        "    min_distance = len(pattern)\n",
        "    for i in range(len(string) - len(pattern) + 1):\n",
        "        distance = sum([1 for j in range(len(pattern)) if pattern[j] != string[i:i+len(pattern)][j]])\n",
        "        if distance < min_distance:\n",
        "            min_distance = distance\n",
        "    return min_distance\n",
        "\n",
        "\n",
        "def find_median_string(k, dna):\n",
        "    pattern = pattern_generate(k)\n",
        "    distance_from_pattern = {}\n",
        "    min_dist = len(dna) * len(pattern)\n",
        "    for i in pattern:\n",
        "        sum_dist = 0\n",
        "        for j in range(len(dna)):\n",
        "            sum_dist += min_hamming_distance(i, dna[j])\n",
        "        distance_from_pattern[i] = sum_dist\n",
        "        min_dist = min(sum_dist, min_dist)\n",
        "    for i in distance_from_pattern.keys():\n",
        "        if distance_from_pattern[i] == min_dist:\n",
        "            print(i)\n",
        "            break\n",
        "\n",
        "if __name__ == \"__main__\":\n",
        "    k = 3\n",
        "    dna=['AAATTGACGCAT',\n",
        "        'GACGACCACGTT',\n",
        "        'CGTCAGCGCCTG',\n",
        "        'GCTGAGCACCGG',\n",
        "        'AGTACGGGACAG']\n",
        "    # with open(\"rosalind_ba2b.txt\", \"r\") as f:\n",
        "    #     k = int(f.readline().strip())\n",
        "    #     dna = [line.strip() for line in f]\n",
        "    find_median_string(k, dna)"
      ],
      "execution_count": 2,
      "outputs": [
        {
          "output_type": "stream",
          "name": "stdout",
          "text": [
            "ACG\n"
          ]
        }
      ]
    },
    {
      "cell_type": "markdown",
      "metadata": {
        "id": "Ey16rphrp2wW"
      },
      "source": [
        "#**Task3:**\n",
        "\n",
        "http://rosalind.info/problems/ba2c/\n",
        "\n",
        "Find a Profile-most Probable k-mer in a String"
      ]
    },
    {
      "cell_type": "code",
      "metadata": {
        "colab": {
          "base_uri": "https://localhost:8080/"
        },
        "id": "whNGNGCiqpTB",
        "outputId": "7c178bee-5051-4c8a-e57d-799188bcafbd"
      },
      "source": [
        "def probability_of_kmer(string, matrix):\n",
        "    probability = 1.0\n",
        "    for i in range(len(string)):\n",
        "        if string[i] == 'A':\n",
        "            probability *= matrix[0][i]\n",
        "        elif string[i] == 'C':\n",
        "            probability *= matrix[1][i]\n",
        "        elif string[i] == 'G':\n",
        "            probability *= matrix[2][i]\n",
        "        elif string[i] == 'T':\n",
        "            probability *= matrix[3][i]\n",
        "    return probability\n",
        "\n",
        "def profile_most_probable_kmer(string, k, matrix):\n",
        "    kmer_probability = {}\n",
        "    for i in range(len(string)-k+1):\n",
        "        kmer_probability[string[i:i+k]] = probability_of_kmer(string[i:i+k], matrix)\n",
        "    max_key = max(kmer_probability, key=kmer_probability.get)\n",
        "    return max_key\n",
        "\n",
        "if __name__ == \"__main__\":\n",
        "    string = 'ACCTGTTTATTGCCTAAGTTCCGAACAAACCCAATATAGCCCGAGGGCCT'\n",
        "    k = 5\n",
        "    matrix = [[0.2, 0.2, 0.3, 0.2, 0.3], [0.4, 0.3, 0.1, 0.5, 0.1], [0.3, 0.3, 0.5, 0.2, 0.4], [0.1, 0.2, 0.1, 0.1, 0.2]]\n",
        "    # with open(\"rosalind_ba2c.txt\", \"r\") as f:\n",
        "    #     string = f.readline().strip()\n",
        "    #     k = int(f.readline().strip())\n",
        "    #     matrix =[[float(l) for l in line.strip().split()] for line in f]\n",
        "    print(profile_most_probable_kmer(string, k, matrix))\n"
      ],
      "execution_count": 3,
      "outputs": [
        {
          "output_type": "stream",
          "name": "stdout",
          "text": [
            "CCGAG\n"
          ]
        }
      ]
    },
    {
      "cell_type": "markdown",
      "metadata": {
        "id": "5299Fp-8p25H"
      },
      "source": [
        "#**Task4:**\n",
        "\n",
        "http://rosalind.info/problems/ba2d/\n",
        "\n",
        "Implement GreedyMotifSearch\n",
        "\n"
      ]
    },
    {
      "cell_type": "code",
      "metadata": {
        "colab": {
          "base_uri": "https://localhost:8080/"
        },
        "id": "Wlw8JIH9qp8N",
        "outputId": "0d5c92c3-312c-4cd4-f5f3-95dd8a27dd50"
      },
      "source": [
        "def probability_of_kmer(string, matrix):\n",
        "    probability = 1.0\n",
        "    for i in range(len(string)):\n",
        "        if string[i] == 'A':\n",
        "            probability *= matrix[0][i]\n",
        "        elif string[i] == 'C':\n",
        "            probability *= matrix[1][i]\n",
        "        elif string[i] == 'G':\n",
        "            probability *= matrix[2][i]\n",
        "        elif string[i] == 'T':\n",
        "            probability *= matrix[3][i]\n",
        "    return probability\n",
        "\n",
        "def profile_most_probable_kmer(string, k, matrix):\n",
        "    kmer_probability = {}\n",
        "    for i in range(len(string)-k+1):\n",
        "        kmer_probability[string[i:i+k]] = probability_of_kmer(string[i:i+k], matrix)\n",
        "    max_key = max(kmer_probability, key=kmer_probability.get)\n",
        "    return max_key\n",
        "\n",
        "def score(Motifs):\n",
        "    count_score = 0\n",
        "    for i in range(len(Motifs[0])):\n",
        "        j = [motif[i] for motif in Motifs]\n",
        "        count_score += (len(j) - max(j.count(\"A\"), j.count(\"C\"), j.count(\"T\"), j.count(\"G\")))\n",
        "    return count_score\n",
        "\n",
        "def greedy_motif_search(Dna, k, t):\n",
        "    BestMotifs = [dna[:k] for dna in Dna]\n",
        "    for k_mer in [Dna[0][i:i+k] for i in range(len(Dna[0])-k+1)]:\n",
        "        Motifs = [k_mer]\n",
        "        for i in range(1, t):\n",
        "            motifs = Motifs[:i]\n",
        "            matrix = []\n",
        "            for base in [\"A\", \"C\", \"G\", \"T\"]:\n",
        "                row = []\n",
        "                for j in range(k):\n",
        "                    col = [x[j] for x in motifs]\n",
        "                    #print(col)\n",
        "                    row.append(col.count(base)/len(motifs))\n",
        "                matrix.append(row) \n",
        "            Motifs.append(profile_most_probable_kmer(Dna[i], k, matrix))\n",
        "        if score(Motifs) < score(BestMotifs):\n",
        "            BestMotifs = Motifs\n",
        "    return BestMotifs\n",
        "\n",
        "if __name__ == \"__main__\":\n",
        "    k, t = 3, 5\n",
        "    Dna = ['GGCGTTCAGGCA',\n",
        "            'AAGAATCAGTCA',\n",
        "            'CAAGGAGTTCGC',\n",
        "            'CACGTCAATCAC',\n",
        "            'CAATAATATTCG']\n",
        "    # with open(\"rosalind_ba2d.txt\", \"r\") as f:\n",
        "    #     k, t = map(int, f.readline().strip().split())\n",
        "    #     Dna = [line.strip() for line in f]\n",
        "    BestMotifs = greedy_motif_search(Dna, k ,t)\n",
        "    print(\"\\n\".join(BestMotifs))"
      ],
      "execution_count": 4,
      "outputs": [
        {
          "output_type": "stream",
          "name": "stdout",
          "text": [
            "CAG\nCAG\nCAA\nCAA\nCAA\n"
          ]
        }
      ]
    },
    {
      "cell_type": "markdown",
      "metadata": {
        "id": "S4JUedttp3BB"
      },
      "source": [
        "#**Task5:**\n",
        "\n",
        "http://rosalind.info/problems/ba2e/\n",
        "\n",
        "Implement GreedyMotifSearch with Pseudocounts"
      ]
    },
    {
      "cell_type": "code",
      "metadata": {
        "colab": {
          "base_uri": "https://localhost:8080/"
        },
        "id": "E5G0RzIjqqeW",
        "outputId": "66f3f39c-a4de-40aa-d4f7-b3156189a989"
      },
      "source": [
        "def probability_of_kmer(string, matrix):\n",
        "    probability = 1.0\n",
        "    for i in range(len(string)):\n",
        "        if string[i] == 'A':\n",
        "            probability *= matrix[0][i]\n",
        "        elif string[i] == 'C':\n",
        "            probability *= matrix[1][i]\n",
        "        elif string[i] == 'G':\n",
        "            probability *= matrix[2][i]\n",
        "        elif string[i] == 'T':\n",
        "            probability *= matrix[3][i]\n",
        "    return probability\n",
        "\n",
        "def profile_most_probable_kmer(string, k, matrix):\n",
        "    kmer_probability = {}\n",
        "    for i in range(len(string)-k+1):\n",
        "        kmer_probability[string[i:i+k]] = probability_of_kmer(string[i:i+k], matrix)\n",
        "    max_key = max(kmer_probability, key=kmer_probability.get)\n",
        "    return max_key\n",
        "\n",
        "def score(Motifs):\n",
        "    count_score = 0\n",
        "    for i in range(len(Motifs[0])):\n",
        "        j = [motif[i] for motif in Motifs]\n",
        "        count_score += (len(j) - max(j.count(\"A\"), j.count(\"C\"), j.count(\"T\"), j.count(\"G\")))\n",
        "    return count_score\n",
        "\n",
        "def greedy_motif_search(Dna, k, t):\n",
        "    BestMotifs = [dna[:k] for dna in Dna]\n",
        "    for k_mer in [Dna[0][i:i+k] for i in range(len(Dna[0])-k+1)]:\n",
        "        Motifs = [k_mer]\n",
        "        for i in range(1, t):\n",
        "            motifs = Motifs[:i]\n",
        "            matrix = []\n",
        "            for base in [\"A\", \"C\", \"G\", \"T\"]:\n",
        "                row = []\n",
        "                for j in range(k):\n",
        "                    col = [x[j] for x in motifs]\n",
        "                    #print(col)\n",
        "                    row.append(col.count(base)+1/len(motifs)+4)\n",
        "                matrix.append(row) \n",
        "            Motifs.append(profile_most_probable_kmer(Dna[i], k, matrix))\n",
        "        if score(Motifs) < score(BestMotifs):\n",
        "            BestMotifs = Motifs\n",
        "    return BestMotifs\n",
        "\n",
        "if __name__ == \"__main__\":\n",
        "    k, t = 3, 5\n",
        "    Dna = ['GGCGTTCAGGCA',\n",
        "            'AAGAATCAGTCA',\n",
        "            'CAAGGAGTTCGC',\n",
        "            'CACGTCAATCAC',\n",
        "            'CAATAATATTCG']\n",
        "    # with open(\"rosalind_ba2e.txt\", \"r\") as f:\n",
        "    #     k, t = map(int, f.readline().strip().split())\n",
        "    #     Dna = [line.strip() for line in f]\n",
        "    BestMotifs = greedy_motif_search(Dna, k ,t)\n",
        "    print(\"\\n\".join(BestMotifs))"
      ],
      "execution_count": 5,
      "outputs": [
        {
          "output_type": "stream",
          "name": "stdout",
          "text": [
            "TTC\nATC\nTTC\nATC\nTTC\n"
          ]
        }
      ]
    },
    {
      "cell_type": "markdown",
      "metadata": {
        "id": "bn85caP6qS0J"
      },
      "source": [
        "# **Task 6**\n",
        "\n",
        "http://rosalind.info/problems/ba2f/\n",
        "\n",
        "Implement RandomizedMotifSearch"
      ]
    },
    {
      "cell_type": "code",
      "metadata": {
        "colab": {
          "base_uri": "https://localhost:8080/"
        },
        "id": "L1ojRDL9qcQo",
        "outputId": "b5b7c475-1f35-4c1d-fd7a-8529d2de20cb"
      },
      "source": [
        "import random \n",
        "\n",
        "def probability_of_kmer(string, matrix):\n",
        "    probability = 1.0\n",
        "    for i in range(len(string)):\n",
        "        if string[i] == 'A':\n",
        "            probability *= matrix[0][i]\n",
        "        elif string[i] == 'C':\n",
        "            probability *= matrix[1][i]\n",
        "        elif string[i] == 'G':\n",
        "            probability *= matrix[2][i]\n",
        "        elif string[i] == 'T':\n",
        "            probability *= matrix[3][i]\n",
        "    return probability\n",
        "\n",
        "def profile_most_probable_kmer(string, k, matrix):\n",
        "    kmer_probability = {}\n",
        "    for i in range(len(string)-k+1):\n",
        "        kmer_probability[string[i:i+k]] = probability_of_kmer(string[i:i+k], matrix)\n",
        "    max_key = max(kmer_probability, key=kmer_probability.get)\n",
        "    return max_key\n",
        "\n",
        "def get_score(Motifs):\n",
        "    count_score = 0\n",
        "    for i in range(len(Motifs[0])):\n",
        "        j = [motif[i] for motif in Motifs]\n",
        "        count_score += (len(j) - max(j.count(\"A\"), j.count(\"C\"), j.count(\"T\"), j.count(\"G\")))\n",
        "    return count_score\n",
        "\n",
        "def get_random_motifs(Dna, k, t):\n",
        "    motifs = []\n",
        "    kmer_index = [random.randint(0, len(Dna[0]) - k) for i in range(len(Dna))]\n",
        "    motifs = [Dna[i][j:j+k] for i, j in enumerate(kmer_index)]\n",
        "    return motifs\n",
        "\n",
        "def create_profile_with_pseudocounts(motifs):\n",
        "    matrix = []\n",
        "    for base in [\"A\", \"C\", \"G\", \"T\"]:\n",
        "        row = []\n",
        "        for j in range(len(motifs[0])):\n",
        "            col = [x[j] for x in motifs]\n",
        "            #print(col)\n",
        "            row.append(float(col.count(base) + 1) / float(len(motifs) + 4))\n",
        "        matrix.append(row) \n",
        "    #print(matrix)\n",
        "    return matrix\n",
        "        \n",
        "def randomized_motif_search(Dna, k, t):\n",
        "    Motifs = get_random_motifs(Dna, k, t)\n",
        "    BestMotifs = Motifs\n",
        "    BestScore = get_score(BestMotifs)\n",
        "    while True:\n",
        "        Profile = create_profile_with_pseudocounts(Motifs)\n",
        "        #print(Profile)\n",
        "        Motifs = [profile_most_probable_kmer(Dna[i], k, Profile) for i in range(len(Dna))]\n",
        "        current_score = get_score(Motifs)\n",
        "        if current_score < BestScore:\n",
        "            BestMotifs = Motifs\n",
        "            BestScore = current_score\n",
        "        else:\n",
        "            return BestMotifs, BestScore\n",
        "\n",
        "if __name__ == \"__main__\":\n",
        "    # with open(\"rosalind_ba2f.txt\", \"r\") as f:\n",
        "    #     k, t = map(int, f.readline().strip().split())\n",
        "    #     Dna = [line.strip() for line in f]\n",
        "    k, t = 8, 5\n",
        "    Dna = ['CGCCCCTCTCGGGGGTGTTCAGTAAACGGCCA',\n",
        "    'GGGCGAGGTATGTGTAAGTGCCAAGGTGCCAG',\n",
        "    'TAGTACCGAGACCGAAAGAAGTATACAGGCGT',\n",
        "    'TAGATCAAGTTTCAGGTGCACGTCGGTGAACC',\n",
        "    'AATCCACCAGCTCCACGTGCAATGTTGGCCTA']\n",
        "    allScores = []\n",
        "    allMotifs = []\n",
        "    for i in range(1000):\n",
        "        motifs, scores = randomized_motif_search(Dna, k, t)\n",
        "        allScores.append(scores)\n",
        "        allMotifs.append(motifs)\n",
        "    BestMotifs = allMotifs[allScores.index(min(allScores))]\n",
        "    print(\"\\n\".join(BestMotifs))"
      ],
      "execution_count": 6,
      "outputs": [
        {
          "output_type": "stream",
          "name": "stdout",
          "text": [
            "TCTCGGGG\nCCAAGGTG\nTACAGGCG\nTTCAGGTG\nTCCACGTG\n"
          ]
        }
      ]
    },
    {
      "cell_type": "markdown",
      "metadata": {
        "id": "x_GBeFUcqqtv"
      },
      "source": [
        "# **Task 7**\n",
        "\n",
        "http://rosalind.info/problems/ba2g/\n",
        "\n",
        "Implement GibbsSampler"
      ]
    },
    {
      "cell_type": "code",
      "metadata": {
        "colab": {
          "base_uri": "https://localhost:8080/"
        },
        "id": "c_Xj6qmBqrA_",
        "outputId": "56b65267-d086-467c-b718-4b0801a290be"
      },
      "source": [
        "import random\n",
        "from random import randint\n",
        "\n",
        "def probability_of_kmer(string, matrix):\n",
        "    probability = 1.0\n",
        "    for i in range(len(string)):\n",
        "        if string[i] == 'A':\n",
        "            probability *= matrix[0][i]\n",
        "        elif string[i] == 'C':\n",
        "            probability *= matrix[1][i]\n",
        "        elif string[i] == 'G':\n",
        "            probability *= matrix[2][i]\n",
        "        elif string[i] == 'T':\n",
        "            probability *= matrix[3][i]\n",
        "    return probability\n",
        "\n",
        "def profile_most_probable_kmer(string, k, matrix):\n",
        "    kmer_probability = {}\n",
        "    for i in range(len(string)-k+1):\n",
        "        kmer_probability[string[i:i+k]] = probability_of_kmer(string[i:i+k], matrix)\n",
        "    max_key = max(kmer_probability, key=kmer_probability.get)\n",
        "    return max_key\n",
        "\n",
        "def get_score(Motifs):\n",
        "    count_score = 0\n",
        "    for i in range(len(Motifs[0])):\n",
        "        j = [motif[i] for motif in Motifs]\n",
        "        count_score += (len(j) - max(j.count(\"A\"), j.count(\"C\"), j.count(\"G\"), j.count(\"T\")))\n",
        "    return count_score\n",
        "\n",
        "def get_random_motifs(Dna, k, t):\n",
        "    motifs = []\n",
        "    kmer_index = [random.randint(0, len(Dna[0]) - k) for i in range(len(Dna))]\n",
        "    motifs = [Dna[i][j:j+k] for i, j in enumerate(kmer_index)]\n",
        "    return motifs\n",
        "\n",
        "def create_profile_with_pseudocounts(motifs):\n",
        "    matrix = []\n",
        "    for base in [\"A\", \"C\", \"G\", \"T\"]:\n",
        "        row = []\n",
        "        for j in range(len(motifs[0])):\n",
        "            col = [x[j] for x in motifs]\n",
        "            #print(col)\n",
        "            row.append(float(col.count(base) + 1) / float(t + 4))\n",
        "        matrix.append(row) \n",
        "    #print(matrix)\n",
        "    return matrix\n",
        "        \n",
        "def GibbsSampler(Dna, k, t, N):\n",
        "    Motifs = get_random_motifs(Dna, k, t)\n",
        "    BestMotifs = Motifs\n",
        "    BestScore = get_score(BestMotifs)\n",
        "    for j in range(N):\n",
        "        i = random.randint(0, t-1)\n",
        "        Motifs.pop(i)\n",
        "        Profile = create_profile_with_pseudocounts(Motifs)\n",
        "        #print(Profile)\n",
        "        motif = profile_most_probable_kmer(Dna[i], k, Profile)\n",
        "        #print(motif)\n",
        "        Motifs.insert(i, motif)\n",
        "        current_score = get_score(Motifs)\n",
        "        if current_score < BestScore:\n",
        "            BestMotifs = Motifs\n",
        "            BestScore = current_score\n",
        "    return BestMotifs, BestScore\n",
        "\n",
        "if __name__ == \"__main__\":\n",
        "    k, t, N = 8, 5, 100\n",
        "    Dna = ['CGCCCCTCTCGGGGGTGTTCAGTAAACGGCCA',\n",
        "           'GGGCGAGGTATGTGTAAGTGCCAAGGTGCCAG',\n",
        "           'TAGTACCGAGACCGAAAGAAGTATACAGGCGT',\n",
        "           'TAGATCAAGTTTCAGGTGCACGTCGGTGAACC',\n",
        "           'AATCCACCAGCTCCACGTGCAATGTTGGCCTA']\n",
        "    # with open(\"rosalind_ba2g.txt\", \"r\") as f:\n",
        "    #     k, t, N = map(int, f.readline().strip().split())\n",
        "    #     Dna = [f.readline().strip() for _ in range(t)]\n",
        "    allScores = []\n",
        "    allMotifs = []\n",
        "    min_score = 9999999999999999\n",
        "    best_motifs = None\n",
        "    for i in range(20):\n",
        "        motifs, scores = GibbsSampler(Dna, k, t, N)\n",
        "        if scores < min_score:\n",
        "            min_score = scores\n",
        "            best_motifs = motifs\n",
        "    print(*best_motifs, sep='\\n')"
      ],
      "execution_count": 7,
      "outputs": [
        {
          "output_type": "stream",
          "name": "stdout",
          "text": [
            "AACGGCCA\nAAGGTGCC\nAAGAAGTA\nCAGGTGCA\nCACGTGCA\n"
          ]
        }
      ]
    },
    {
      "cell_type": "markdown",
      "metadata": {
        "id": "RYBtPwFqK0t3"
      },
      "source": [
        "# **Task 8**\n",
        "\n",
        "http://rosalind.info/problems/ba2h/\n",
        "\n",
        "Implement DistanceBetweenPatternAndStrings"
      ]
    },
    {
      "cell_type": "code",
      "metadata": {
        "colab": {
          "base_uri": "https://localhost:8080/"
        },
        "id": "z5cPD6ZmK06I",
        "outputId": "939d5629-6394-4460-ad1a-38c62fa86edc"
      },
      "source": [
        "def hammingDist(genome, kmer):\n",
        "    dist = []\n",
        "    for i in range(len(genome) - len(kmer) + 1):\n",
        "        word = genome[i:i+len(kmer)]\n",
        "        dist.append(sum(x != y for x, y in zip(word, kmer)))\n",
        "    return(min(dist))\n",
        "\n",
        "def DistanceBetweenPatternAndStrings(pattern, dna):\n",
        "    distance = 0\n",
        "    for seq in dna:\n",
        "        tempDist = [hammingDist(pattern, seq[i : i + len(pattern)]) for i in range(len(seq) - len(pattern) + 1)]\n",
        "        minTempDist = min(tempDist)\n",
        "        distance += minTempDist\n",
        "    return(distance)\n",
        "\n",
        "if __name__ == \"__main__\":\n",
        "    pattern = 'AAA'\n",
        "    dna = ['TTACCTTAAC', 'GATATCTGTC', 'ACGGCGTTCG', 'CCCTAAAGAG', 'CGTCAGAGGT']\n",
        "    # with open(filename, 'r') as f:\n",
        "    #     pattern = f.readline().rstrip()\n",
        "    #     dna = f.readline().rstrip().split()\n",
        "    print(DistanceBetweenPatternAndStrings(pattern, dna))"
      ],
      "execution_count": 8,
      "outputs": [
        {
          "output_type": "stream",
          "name": "stdout",
          "text": [
            "5\n"
          ]
        }
      ]
    },
    {
      "cell_type": "code",
      "metadata": {
        "id": "vqBWLt9QbLpX"
      },
      "source": [],
      "execution_count": null,
      "outputs": []
    }
  ]
}